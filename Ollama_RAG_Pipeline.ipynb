{
 "cells": [
  {
   "cell_type": "markdown",
   "metadata": {},
   "source": [
    "# Build a RAG pipeline using ollama"
   ]
  },
  {
   "cell_type": "markdown",
   "metadata": {},
   "source": [
    "Import all necessary libraries"
   ]
  },
  {
   "cell_type": "code",
   "execution_count": 59,
   "metadata": {},
   "outputs": [
    {
     "name": "stderr",
     "output_type": "stream",
     "text": [
      "c:\\Project_Files\\venv\\lib\\site-packages\\tqdm\\auto.py:21: TqdmWarning: IProgress not found. Please update jupyter and ipywidgets. See https://ipywidgets.readthedocs.io/en/stable/user_install.html\n",
      "  from .autonotebook import tqdm as notebook_tqdm\n"
     ]
    }
   ],
   "source": [
    "import gradio as gr\n",
    "import ollama\n",
    "import bs4\n",
    "from langchain.text_splitter import RecursiveCharacterTextSplitter\n",
    "from langchain_community.document_loaders import WebBaseLoader\n",
    "from langchain_community.vectorstores import Chroma\n",
    "from langchain_community.embeddings import OllamaEmbeddings\n",
    "from langchain_core.output_parsers import StrOutputParser\n",
    "from langchain_core.runnables import RunnablePassthrough"
   ]
  },
  {
   "cell_type": "markdown",
   "metadata": {},
   "source": [
    "Define Web URL"
   ]
  },
  {
   "cell_type": "code",
   "execution_count": null,
   "metadata": {},
   "outputs": [],
   "source": [
    "URL = [\"https://ibighit.com/bts/eng/profile/\",\"https://www.geeksforgeeks.org/\"]"
   ]
  },
  {
   "cell_type": "markdown",
   "metadata": {},
   "source": [
    "Define the loader"
   ]
  },
  {
   "cell_type": "code",
   "execution_count": 44,
   "metadata": {},
   "outputs": [],
   "source": [
    "loader = WebBaseLoader(URL)"
   ]
  },
  {
   "cell_type": "markdown",
   "metadata": {},
   "source": [
    "Load the web based URL"
   ]
  },
  {
   "cell_type": "code",
   "execution_count": 45,
   "metadata": {},
   "outputs": [
    {
     "data": {
      "text/plain": [
       "[Document(page_content='\\n\\n\\n\\n\\n\\n\\n\\n\\nPROFILE | BTS | BIGHIT MUSIC\\n\\n\\n\\n\\n\\n\\n\\n\\n\\n\\n\\n\\n\\n\\n\\n\\n\\n\\n\\n\\n\\n\\n\\n\\n\\n\\n\\n\\n\\n\\n\\n\\n\\n\\n\\n\\n\\n\\n\\n\\n\\n\\n\\n\\n\\n\\n\\n\\n\\n\\n\\n\\n\\n\\n\\n\\n\\n\\n\\n\\n\\n\\n\\n\\n\\n\\n\\n\\n\\n\\n\\n\\n\\n\\n\\n\\n\\n\\n\\n\\n\\n\\n\\n\\n\\n\\n\\nABOUT BTS\\nBTS, an acronym of Bangtan Sonyeondan\\r\\n\\t\\t\\t\\t\\t\\t\\tor “Beyond the Scene,” is a\\r\\n\\t\\t\\t\\t\\t\\tGrammy-nominated South Korean group that has been capturing the hearts of millions of fans\\r\\n\\t\\t\\t\\t\\t\\tglobally since its debut in June 2013. The members of BTS are RM, Jin, SUGA, j-hope, Jimin,\\r\\n\\t\\t\\t\\t\\t\\tV, and Jung Kook. Gaining recognition for their authentic and self-produced music, top-notch\\r\\n\\t\\t\\t\\t\\t\\tperformances, and the way they interact with their fans, BTS has established themselves as “21st century Pop Icons” breaking countless world\\r\\n\\t\\t\\t\\t\\t\\trecords. While imparting a positive influence through activities such as the LOVE MYSELF campaign and the UN ‘Speak Yourself’ speech, the band has mobilized millions\\r\\n\\t\\t\\t\\t\\t\\tof fans across the world (named ARMY), collected four\\r\\n\\t\\t\\t\\t\\t\\tNo. 1 songs in a span of 9 months, performed multiple sold-out stadium shows across the world,\\r\\n\\t\\t\\t\\t\\t\\tand been named TIME’s Entertainer of the Year 2020. BTS has been nominated for Best Pop\\r\\n\\t\\t\\t\\t\\t\\tDuo/Group Performance for the 63rd Grammy Awards and recognized with numerous prestigious awards\\r\\n\\t\\t\\t\\t\\t\\tlike the Billboard Music Awards, American Music Awards and MTV Video Music Awards.\\n\\n\\n\\n\\n\\nMEMBER\\n\\n\\n\\n\\n\\n\\n\\n\\n\\n\\n\\n\\n\\n\\n\\n\\n\\n\\n\\n\\n\\n\\n\\n\\n\\n\\n\\n\\n\\n\\n\\n\\n\\n\\n\\n\\n\\n\\n\\n\\n\\n\\n\\n\\n\\n\\n\\n\\n\\n\\n\\n\\n\\n\\n\\n\\n\\n\\n\\n\\n\\n\\n\\n\\nRM\\n\\n\\nDate of Birth : 12th September, 1994\\n\\n\\n\\n\\n\\n\\n\\n\\n\\n\\n\\n\\nJin\\n\\n\\nDate of Birth : 4th December, 1992\\n\\n\\n\\n\\n\\n\\n\\n\\n\\n\\n\\n\\nSUGA\\n\\n\\nDate of Birth : 9th March, 1993\\n\\n\\n\\n\\n\\n\\n\\n\\n\\n\\n\\n\\nj-hope\\n\\n\\nDate of Birth : 18th February, 1994\\n\\n\\n\\n\\n\\n\\n\\n\\n\\n\\n\\n\\nJimin\\n\\n\\nDate of Birth : 13th October, 1995\\n\\n\\n\\n\\n\\n\\n\\n\\n\\n\\n\\n\\nV\\n\\n\\nDate of Birth : 30th December, 1995\\n\\n\\n\\n\\n\\n\\n\\n\\n\\n\\n\\n\\nJung Kook\\n\\n\\nDate of Birth : 1st September, 1997\\n\\n\\n\\n\\n\\n\\n\\n\\n\\n\\n\\n\\n\\n\\n\\n\\n\\n\\n', metadata={'source': 'https://ibighit.com/bts/eng/profile/', 'title': 'PROFILE | BTS | BIGHIT MUSIC', 'description': 'Profile of BTS - RM, Jin, SUGA, j-hope, Jimin, V, Jung Kook', 'language': 'en'}),\n",
       " Document(page_content=\"\\n\\n\\n\\n\\n\\n\\n\\n\\n\\n\\n\\n\\n\\n\\n\\n\\n\\n\\n\\n\\n\\n\\nGeeksforGeeks | A computer science portal for geeks\\n\\n\\n\\n\\n\\n\\n\\n\\n\\n\\n\\n\\n\\n\\n\\n\\n\\n\\n\\n\\n\\n\\n\\n\\n\\n\\n\\n\\n\\n\\n\\n\\n\\n\\n\\n\\n\\n\\n\\n\\n\\n\\n\\nSkip to content\\n\\n\\n\\n\\n\\n\\n\\n\\n\\n\\n\\n\\nCoursesDSA to DevelopmentCoding for EveryoneFor Working ProfessionalsInterview 101: DSA & System DesignData Science Training ProgramJAVA Backend Development (Live)DevOps Engineering (LIVE)Software Testing & Automation (Live)Data Structures & Algorithms in PythonFor StudentsInterview Preparation CourseData Science (Live)Data Structure & Algorithm-Self Paced (C++/JAVA)Master Competitive Programming (Live)Full Stack Development with React & Node JS (Live)GATE Exam CoursesGATE CS & ITGATE DA & AIGATE Classroom Course (NCR)For School StudentsCBSE Class 12 Computer ScienceSchool GuidePython Programming FoundationAll CoursesTutorialsData Structures & AlgorithmsDSA for BeginnersData StructuresArraysMatrixStringsLinked ListSingly Linked ListDoubly Linked ListCircular Linked ListDoubly Circular Linked ListLinked List TutorialStackQueueTreeGeneric TreeBinary TreeBinary Search TreeAVL TreeB TreeB+ TreeRed Black TreeTree Data Structure TutorialHeapHashingGraphSet Data StructureMap Data StructureAdvanced Data StructureData Structures TutorialAlgorithmsAnalysis of AlgorithmsDesign and Analysis of AlgorithmsAsymptotic AnalysisAsymptotic NotationsWorst, Average and Best CasesSearching AlgorithmsLinear SearchBinary SearchSearching Algorithms TutorialSorting AlgorithmsSelection SortBubble SortInsertion SortMerge SortQuick SortHeap SortCounting SortRadix SortBucket SortSorting Algorithms TutorialGreedy AlgorithmsDynamic ProgrammingGraph AlgorithmsPattern SearchingRecursionBacktrackingDivide and ConquerMathematical AlgorithmsGeometric AlgorithmsBitwise AlgorithmsRandomized AlgorithmsBranch and BoundAlgorithms TutorialComplete DSA TutorialCompetitive ProgrammingCompany Wise SDE SheetsFacebook SDE SheetAmazon SDE SheetApple SDE SheetNetflix SDE SheetGoogle SDE SheetWipro Coding SheetInfosys Coding SheetTCS Coding SheetCognizant Coding SheetHCL Coding SheetDSA Cheat SheetsDSA Sheet for BeginnersSDE SheetsFAANG Coding SheetLove Babbaar SheetMass Recruiter SheetProduct-Based Coding SheetCompany-Wise Preparation Sheet100 Days of CodeTop Interview QuestionsTop 100 DSA Interview Questions Topic-wiseTop 50 Array ProblemsTop 50 String ProblemsTop 50 Stack ProblemsTop 50 Heap ProblemsTop 50 Linked List ProblemsTop 50 Tree ProblemsTop 50 Graph ProblemsTop 50 Problems on Recursion AlgorithmsTop 20 Interview Questions on Greedy AlgorithmsTop 20 Interview Questions on Dynamic ProgrammingTop 50 Problems on Dynamic Programming (DP)Top 20 Interview Questions on HashingInterview Questions on Top 10 AlgorithmsCommonly Asked Data Structure Interview QuestionsDSA BlogsPuzzlesAll PuzzlesTop 100 Puzzles Asked In InterviewsTop 20 Puzzles Commonly Asked During SDE InterviewsTop MCQs on Puzzles with AnswersCrossword Puzzle Of The WeekPythonPython TutorialPython ExercisesPython List ExercisePython String ExercisePython Tuple ExercisePython Dictionary ExercisePython Set ExercisePython QuizPython ProgramsAdvanced Python TutorialPython GUIPython Tkinter TutorialKivy TutorialPython Turtle TutorialPyGame TutorialPython API TutorialPython DatabasePython Database TutorialPython SQLitePython MongoDB TutorialPython JSONPython AutomationPython AutomationPython Web ScrapingPython Requests TutorialSelenium PythonPython Cheat SheetPython ProjectsPython Interview QuestionsML & Data ScienceMachine LearningMachine Learning TutorialMaths for MLMachine Learning with PythonMachine Learning with RML Projects100 Days of Machine LearningData Science using PythonData Science using RData Science PackagesPandas TutorialNumPy TutorialData VisualizationData Visualization with PythonPython Data Visualization TutorialMatplotlib TutorialBokeh TutorialPlotly TutorialSeaborn TutorialData Visualization with RData Visualization with RPlotly Tutorialggplot TutorialData Visualization ToolsTableauPower BIData AnalysisData Analysis with PythonData Analysis with R100 Days of Data AnalyticsDeep LearningDeep Learning TutorialDeep Learning ProjectsNLP TutorialOpenCV TutorialInterview QuestionsMachine Learning Interview QuestionDeep Learning Interview QuestionPython Interview QuestionsTop 50 R Interview QuestionsML FrameworksTensorflowPyTorchPyTorch LightningSystem DesignSystem Design TutorialWhat is System DesignKey Terminologies in System DesignAnalysis and Architecture of SystemsScalability in System DesignDatabases in System DesignHigh Level Design or HLDLow Level Design or LLDCommunication ProtocolsWeb Servers and ProxiesCase Studies in Designing SystemsComplete System Design TutorialSoftware Design PatternsFactory PatternObserver PatternSingleton Design PatternDecorator PatternStrategy PatternAdapter PatternCommand PatternIterator PatternPrototype Design PatternAll Design PatternsSystem Design RoadmapTop 10 System Design Interview Questions and AnswersInterview CornerCompany PreparationTop TopicsPractice Company QuestionsInterview ExperiencesExperienced InterviewsInternship InterviewsCompetitive ProgrammingMultiple Choice QuizzesAptitude for PlacementsLanguagesCC++JavaR TutorialC#SQLScalaPerlGo LanguageWeb DevelopmentHTMLHTML TutorialFree HTML CourseHTML Cheat SheetCSSCSS TutorialFree CSS CourseCSS Cheat SheetCSS Preprocessors (SASS)JavaScriptJavaScript TutorialJavaScript ProgramsJavaScript QuestionsJavaScript Cheat SheetDSA using JavaScriptFree JavaScript CourseJavaScript A to Z Complete GuideTypeScriptReactJSReactJS TutorialFree ReactJS CourseReactJS Cheat SheetReactJS FrameworksNextJSReact BootstrapReact Material UIReact NativeNode.jsNode.js TutorialExpress.jsPHPPHP TutorialFree PHP CoursePHP Programming ExamplesAngularJSAngularJS TutorialAngularJS Cheat SheetAngular PrimeNGAngular ngx BootstrapjQueryjQuery TutorialjQuery Cheat SheetjQuery UICSS Frameworks & LibrariesBootstrapTailwind CSSBulmaPure CSSMaterialize CSSFoundationSemantic UIJS Other Frameworks & LibrariesLodashD3.jsVue.jsUnderscore.jsTensorFlow.jsp5.jsWeb Development Using PythonDjangoGetting started with DjangoCreate an App in DjangoViews In DjangoDjango TemplatesDjango URL patternsDjango Admin InterfaceDjango ModelsMySQL Databased with DjangoDjango CRUDDjango FormsDjango Static FileProjects for BeginnersDjango Interview QuestionsDjango TutorialFlaskWeb Development Using FlaskFlask App RoutingURL building in FlaskFlask TemplatesTemplating With Jinja2 in FlaskFlask ModelDatabase with Flask SQL AlchemyAuthentication with FlaskWTForms in FlaskStatic files in FlaskPython Flask ProjectsFlask Interview QuestionsFrontend ProjectsBuilding a Survey Form using HTML and CSSFood delivery system using HTML and CSSToDo webapp using DjangoBuilding Blog CMSAdd Pagination in DjangoTailwind CSS with DjangoDjango with ReactjsSeleniumPostmanGithubWeb Design100 Days of Web DevelopmentCS SubjectsEngineering MathematicsOperating SystemDBMSComputer NetworksComputer Organization and ArchitectureTheory of ComputationCompiler DesignDigital LogicSoftware EngineeringDevOpsDevOps TutorialGITAWSKubernetesDockerMicrosoft Azure TutorialGoogle Cloud PlatformDevOps RoadmapInterview QuestionsDocker Interview QuestionsAWS Interview QuestionsJenkins Interview QuestionsAnsible Interview QuestionLinuxLinux TutorialLinux Commands A-ZLinux Commands Cheatsheet25 Basic Linux CommandsFile Mangement in LinuxFile Permission Commandschmod Commandchown Commandchgrp Commandunmask CommandLinux System AdministrationLinux File SystemLinux Shell ScriptingLinux NetworkingLinux FirewallLinux Interview QuestionsSchool LearningMathematics (Class 8-12)Number SystemAlgebraLinear AlgebraTrigonometrySet TheoryStatisticsProbabilityGeometryMensurationLogarithmsCalculusMaths Notes (Class 8-12)Class 8 NotesClass 9 NotesClass 10 NotesClass 11 NotesClass 12 NotesMaths Formulas (Class 8 -11)Class 8 FormulasClass 9 FormulasClass 10 FormulasClass 11 FormulasMath CalculatorsMaths Solutions(Class 8-12)NCERT SolutionsClass 8 Maths SolutionClass 9 Maths SolutionClass 10 Maths SolutionClass 11 Maths SolutionClass 12 Maths SolutionRD Sharma SolutionsClass 8 Maths SolutionClass 9 Maths SolutionClass 10 Maths SolutionClass 11 Maths SolutionClass 12 Maths SolutionPhysics Notes (Class 8-12)Class 8 NotesClass 9 NotesClass 10 NotesClass 11 NotesClass 12 NotesChemistry Notes (Class 8-12)Class 8 NotesClass 9 NotesClass 10 NotesClass 11 NotesClass 12 NotesBiology Notes (Class 8-12)Class 8Class 9Class 10Class 11Class 12Science Notes(Class 8-10)Class 8 NotesClass 9 NotesClass 10 NotesSocial Science Notes(Class 7-10)SS Notes (Class 7-10)Class 7 NotesClass 8 NotesClass 9 NotesClass 10 NotesCBSE History Notes (Class 7-10)History Class 7History Class 8History Class 9History Class 10CBSE Geography Notes (Class 7-10)Geo. Class 7Geo. Class 8Geo. Class 9Geo. Class 10CBSE Civics Notes (Class 7-10)Civics Class 7Civics Class 8Civics Class 9Civics Class 10Social Science Syllabus (Class 7-10)Class 7 SS SyllabusClass 8 SS SyllabusClass 9 SS SyllabusClass 10 SS SyllabusEnglish GrammarCBSE Syllabus(Class 8-12)Class 8 SyllabusClass 9 SyllabusClass 10 SyllabusClass 11 SyllabusClass 12 SyllabusCBSE Previous Year PapersMathsPhysicsHistoryGeorgraphyPolitical ScienceEconomicsSchool ProgrammingIIT JEEJEE Main 2024JEE Main Exam PatternJEE Main Exam DateJEE Main Syllabus 2024JEE Maths SyllabusJEE Physics SyllabusJEE Chemistry SyllabusJEE Complete SyllabusJEE Main Admin CardJEE Advanced 2024JEE Advanced Syllabus 2024CommerceBusiness StudiesClass 11th NotesClass 12th NotesBusiness Studies Complete GuideAccountancyClass 11th NotesClass 12th NotesAccountancy Complete GuideMicroeconomicsClass 11th NotesMicroeconomics Complete GuideStatistics for EconomicsClass 11th NotesStatistics for Economics Complete GuideMacroeconomicsClass 12th notesMacroeconomics Complete GuideIndian Economic DevelopmentClass 12th NotesIndian Economic Development Complete GuideHuman Resource Management (HRM)ManagementIncome TaxFinanceCommerce Complete GuideGATEGATE CS/IT Test Series 2024GATE Computer Science NotesLast Minute NotesGATE CS Solved PapersGATE CS Original Papers and Official KeysGATE CS 2024 SyllabusGATE 2024 Important DatesGATE Data Science and AI 2024Other CS ExamsISROISRO CS Original Papers and Official KeysISRO CS Solved PapersISRO CS Syllabus for Scientist/Engineer ExamUGC NETUGC NET CS Notes Paper IIUGC NET CS Notes Paper IIIUGC NET CS Solved PapersUPSC and SSC/BankingBanking Exams Study MaterialRRB Clerk 2023 ExamSBI ClerkSBI Clerk SyllabusGeneral AwarenessEnglishQuantitative AptitudeReasoning AbilitySBI Clerk Practice PapersSBI POSBI PO SyllabusGeneral AwarenessEnglishQuantitative AptitudeReasoning AbilityPrevious Year PapersSBI PO Practice PapersIBPS ClerkIBPS Clerk SyllabusEnglish NotesPrevious Year PapersIBPS POIBPS PO 2022 SyllabusEnglish NotesReasoning NotesPrevious Year PapersMock Question PapersGeneral AwarenessUPSC Study MaterialGeography NotesHistory NotesModern Indian History NotesMedieval Indian History NotesAncient Indian History NotesComplete History NotesScience & Tech. NotesEthics NotesPolity NotesEconomics NotesGovernment Schemes (Updated)UPSC Previous Year PapersSSC CGL Study MaterialSSC CGL SyllabusGeneral StudiesEnglishReasoningSubjectwise Practice PapersPrevious Year PapersGeeksforGeeks VideosData StructuresArraysStringsLinked ListStackQueueTreeSDE SheetPythonJavaC++Data ScienceComputer Science SubjectsJobsGet Hired: Apply for JobsCorporate Hiring SolutionsPracticeAll DSA ProblemsProblem of the DayCompany Wise Coding PracticeAmazonMicrosoftFlipkartExplore AllGfG SDE SheetPractice Problems Difficulty WiseSchoolBasicEasyMediumHardLanguage Wise Coding PracticeCPPJavaPythonCurated DSA ListsBeginner's DSA SheetLove Babbar SheetTop 50 Array ProblemsTop 50 String ProblemsTop 50 DP ProblemsTop 50 Graph ProblemsTop 50 Tree ProblemsContestsJob-A-Thon Hiring ChallengeGet Internship via GfG WeeklyAll Contests and Events \\n\\n\\n\\n \\n\\n\\n\\n\\n\\n\\n\\n\\n\\n\\n\\n\\n\\n\\n\\n\\n\\n\\n\\n\\n\\n\\n\\n\\n\\n\\n\\n\\n\\n\\n\\n\\n\\n\\n\\nHome\\n\\n\\n\\n\\nSaved Videos\\n\\n\\n\\nCourses\\n\\n\\n\\n\\n\\n\\nData Structures and Algorithms\\n\\nDSA Tutorial\\nData Structures Tutorial\\nAlgorithms Tutorial\\nTop 100 DSA Interview Questions\\nDSA-Roadmap[Basic-to-Advanced]\\n\\n\\n\\n\\n\\nML & Data Science\\n\\nLearn Python\\nData Science Tutorial\\nMachine Learning Tutorial\\nDeep Learning Tutorial\\nNLP Tutorial\\nComputer Vision Tutorial\\n\\n\\n\\n\\n\\nWeb Development\\n\\nHTML Tutorial\\nCSS Tutorial\\nJavaScript Tutorial\\nReactJS Tutorial\\nNodeJS Tutorial\\n\\n\\n\\n\\n\\nLanguages\\n\\nC\\nC++\\nJava\\nR Tutorial\\nGolang\\n\\n\\n\\n\\n\\nInterview Corner\\n\\nCompany Interview Corner\\nExperienced Interviews\\nInternship Experiences\\nPractice Company Questions\\nCompetitive Programming\\n\\n\\n\\n\\n\\nCS Subjects\\n\\nOperating Systems\\nDBMS\\nComputer Networks\\nSoftware Engineering\\nSoftware Testing\\n\\n\\n\\n\\n\\nJobs\\n\\nGet Hired: Apply for Jobs\\nJob-a-thon: Hiring Challenge\\nCorporate Hiring Solutions\\n\\n\\n\\n\\n\\nPractice\\n\\nAll DSA Problems\\nProblem of the Day\\nGFG SDE Sheet\\nBeginner's DSA Sheet\\nLove Babbar Sheet\\nTop 50 Array Problems\\nTop 50 String Problems\\nTop 50 DP Problems\\nTop 50 Graph Problems\\nTop 50 Tree Problems\\n\\n\\n\\n\\n\\nContests\\n\\nWorld Cup Hack-A-Thon\\nGFG Weekly Coding Contest\\nJob-A-Thon: Hiring Challenge\\nBiWizard School Contest\\nAll Contests and Events\\n\\n\\n\\n\\nGBlog\\n\\n\\nPuzzles\\n\\n\\nWhat's New ?\\n\\n\\n\\n\\n\\n\\n\\n\\n\\nChange Language \\r\\n                    \\n\\n\\n\\n\\n\\n\\n\\n\\n\\n\\n\\nTrending NowDSAWeb TechFoundational CoursesData SciencePractice ProblemPythonMachine LearningJavaScriptSystem DesignDjangoDevOps TutorialJavaC C++ReactJSNodeJSWeb DesignWeb BrowserCP LiveAptitudePuzzlesProjects \\n\\n\\n\\n\\n▲\\n\\n\\n\\n\\n\\n\\n\\n\\n\\n\\n\\n\\n\\n\\n\\n\\n\\n\\n\\n\\n\\n\\n\\n\\n\\n\\n\\n\\n\\n\\n\\n\\n\\n\\n\\n\\n\\n\\n\\n\\n\\n\\n\\n\\n\\n\\n\\n\\n\\n\\n\\n\\r\\n                     A-143, 9th Floor, Sovereign Corporate Tower, Sector-136, Noida, Uttar Pradesh - 201305                      \\n\\n\\n\\n\\n\\n\\n\\n\\n\\n\\n\\n\\n\\n\\n\\n\\n\\n\\n\\n\\n\\n\\n\\n\\nCompanyAbout UsLegalCareersIn MediaContact UsAdvertise with usGFG Corporate SolutionPlacement Training ProgramExploreJob-A-Thon Hiring ChallengeHack-A-ThonGfG Weekly ContestOffline Classes (Delhi/NCR)DSA in JAVA/C++Master System DesignMaster CPGeeksforGeeks VideosGeeks CommunityLanguagesPythonJavaC++PHPGoLangSQLR LanguageAndroid TutorialDSAData StructuresAlgorithmsDSA for BeginnersBasic DSA ProblemsDSA RoadmapDSA Interview QuestionsCompetitive ProgrammingData Science & MLData Science With PythonData Science For BeginnerMachine Learning TutorialML MathsData Visualisation TutorialPandas TutorialNumPy TutorialNLP TutorialDeep Learning TutorialWeb TechnologiesHTMLCSSJavaScriptTypeScriptReactJSNextJSNodeJsBootstrapTailwind CSSPython TutorialPython Programming ExamplesDjango TutorialPython ProjectsPython TkinterWeb ScrapingOpenCV TutorialPython Interview QuestionComputer ScienceGATE CS NotesOperating SystemsComputer NetworkDatabase Management SystemSoftware EngineeringDigital Logic DesignEngineering MathsDevOpsGitAWSDockerKubernetesAzureGCPDevOps RoadmapSystem DesignHigh Level DesignLow Level DesignUML DiagramsInterview GuideDesign PatternsOOADSystem Design BootcampInterview QuestionsSchool SubjectsMathematicsPhysicsChemistryBiologySocial ScienceEnglish GrammarCommerceAccountancyBusiness StudiesEconomicsManagementHR ManagementFinanceIncome TaxUPSC Study MaterialPolity NotesGeography NotesHistory NotesScience and Technology NotesEconomy NotesEthics NotesPrevious Year PapersPreparation CornerCompany-Wise Recruitment ProcessResume TemplatesAptitude PreparationPuzzlesCompany-Wise PreparationCompaniesCollegesCompetitive ExamsJEE AdvancedUGC NETSSC CGLSBI POSBI ClerkIBPS POIBPS ClerkMore TutorialsSoftware DevelopmentSoftware TestingProduct ManagementProject ManagementLinuxExcelAll Cheat SheetsFree Online ToolsTyping TestImage EditorCode FormattersCode ConvertersCurrency ConverterRandom Number GeneratorRandom Password GeneratorWrite & EarnWrite an ArticleImprove an ArticlePick Topics to WriteShare your ExperiencesInternships \\n\\n\\n\\n\\n\\n\\n@GeeksforGeeks, Sanchhaya Education Private Limited, All rights reserved\\n\\n\\n\\n\\n\\n\\n\\n\\n\\n\\r\\n        We use cookies to ensure you have the best browsing experience on our website. By using our site, you\\r\\n        acknowledge that you have read and understood our\\r\\n        Cookie Policy &\\r\\n        Privacy Policy\\n\\n\\r\\n        Got It !\\r\\n    \\n\\n\\n\\n\\n\\n\\n\\n\\n\\n\\n\\n\\n\\n\\n\\n\\n\\n\\n\\n\\n\\n\\n\\n\\n\\n\\n\\n\\n\\n\", metadata={'source': 'https://www.geeksforgeeks.org/', 'title': 'GeeksforGeeks | A computer science portal for geeks', 'description': 'A Computer Science portal for geeks. It contains well written, well thought and well explained computer science and programming articles, quizzes and practice/competitive programming/company interview Questions.', 'language': 'en-US'})]"
      ]
     },
     "execution_count": 45,
     "metadata": {},
     "output_type": "execute_result"
    }
   ],
   "source": [
    "docs = loader.load()\n",
    "docs"
   ]
  },
  {
   "cell_type": "markdown",
   "metadata": {},
   "source": [
    "Define the text splitter"
   ]
  },
  {
   "cell_type": "code",
   "execution_count": 46,
   "metadata": {},
   "outputs": [
    {
     "data": {
      "text/plain": [
       "<langchain_text_splitters.character.RecursiveCharacterTextSplitter at 0x233fa3c7760>"
      ]
     },
     "execution_count": 46,
     "metadata": {},
     "output_type": "execute_result"
    }
   ],
   "source": [
    "text_splitter = RecursiveCharacterTextSplitter(chunk_size=1000, chunk_overlap=200)\n",
    "text_splitter"
   ]
  },
  {
   "cell_type": "markdown",
   "metadata": {},
   "source": [
    "Split the documents into chunks"
   ]
  },
  {
   "cell_type": "code",
   "execution_count": 47,
   "metadata": {},
   "outputs": [
    {
     "data": {
      "text/plain": [
       "[Document(page_content='PROFILE | BTS | BIGHIT MUSIC', metadata={'source': 'https://ibighit.com/bts/eng/profile/', 'title': 'PROFILE | BTS | BIGHIT MUSIC', 'description': 'Profile of BTS - RM, Jin, SUGA, j-hope, Jimin, V, Jung Kook', 'language': 'en'}),\n",
       " Document(page_content='ABOUT BTS\\nBTS, an acronym of Bangtan Sonyeondan\\r\\n\\t\\t\\t\\t\\t\\t\\tor “Beyond the Scene,” is a\\r\\n\\t\\t\\t\\t\\t\\tGrammy-nominated South Korean group that has been capturing the hearts of millions of fans\\r\\n\\t\\t\\t\\t\\t\\tglobally since its debut in June 2013. The members of BTS are RM, Jin, SUGA, j-hope, Jimin,\\r\\n\\t\\t\\t\\t\\t\\tV, and Jung Kook. Gaining recognition for their authentic and self-produced music, top-notch\\r\\n\\t\\t\\t\\t\\t\\tperformances, and the way they interact with their fans, BTS has established themselves as “21st century Pop Icons” breaking countless world\\r\\n\\t\\t\\t\\t\\t\\trecords. While imparting a positive influence through activities such as the LOVE MYSELF campaign and the UN ‘Speak Yourself’ speech, the band has mobilized millions\\r\\n\\t\\t\\t\\t\\t\\tof fans across the world (named ARMY), collected four\\r\\n\\t\\t\\t\\t\\t\\tNo. 1 songs in a span of 9 months, performed multiple sold-out stadium shows across the world,\\r\\n\\t\\t\\t\\t\\t\\tand been named TIME’s Entertainer of the Year 2020. BTS has been nominated for Best Pop', metadata={'source': 'https://ibighit.com/bts/eng/profile/', 'title': 'PROFILE | BTS | BIGHIT MUSIC', 'description': 'Profile of BTS - RM, Jin, SUGA, j-hope, Jimin, V, Jung Kook', 'language': 'en'}),\n",
       " Document(page_content='No. 1 songs in a span of 9 months, performed multiple sold-out stadium shows across the world,\\r\\n\\t\\t\\t\\t\\t\\tand been named TIME’s Entertainer of the Year 2020. BTS has been nominated for Best Pop\\r\\n\\t\\t\\t\\t\\t\\tDuo/Group Performance for the 63rd Grammy Awards and recognized with numerous prestigious awards\\r\\n\\t\\t\\t\\t\\t\\tlike the Billboard Music Awards, American Music Awards and MTV Video Music Awards.', metadata={'source': 'https://ibighit.com/bts/eng/profile/', 'title': 'PROFILE | BTS | BIGHIT MUSIC', 'description': 'Profile of BTS - RM, Jin, SUGA, j-hope, Jimin, V, Jung Kook', 'language': 'en'}),\n",
       " Document(page_content='MEMBER\\n\\n\\n\\n\\n\\n\\n\\n\\n\\n\\n\\n\\n\\n\\n\\n\\n\\n\\n\\n\\n\\n\\n\\n\\n\\n\\n\\n\\n\\n\\n\\n\\n\\n\\n\\n\\n\\n\\n\\n\\n\\n\\n\\n\\n\\n\\n\\n\\n\\n\\n\\n\\n\\n\\n\\n\\n\\n\\n\\n\\n\\n\\n\\n\\nRM\\n\\n\\nDate of Birth : 12th September, 1994\\n\\n\\n\\n\\n\\n\\n\\n\\n\\n\\n\\n\\nJin\\n\\n\\nDate of Birth : 4th December, 1992\\n\\n\\n\\n\\n\\n\\n\\n\\n\\n\\n\\n\\nSUGA\\n\\n\\nDate of Birth : 9th March, 1993\\n\\n\\n\\n\\n\\n\\n\\n\\n\\n\\n\\n\\nj-hope\\n\\n\\nDate of Birth : 18th February, 1994\\n\\n\\n\\n\\n\\n\\n\\n\\n\\n\\n\\n\\nJimin\\n\\n\\nDate of Birth : 13th October, 1995\\n\\n\\n\\n\\n\\n\\n\\n\\n\\n\\n\\n\\nV\\n\\n\\nDate of Birth : 30th December, 1995\\n\\n\\n\\n\\n\\n\\n\\n\\n\\n\\n\\n\\nJung Kook\\n\\n\\nDate of Birth : 1st September, 1997', metadata={'source': 'https://ibighit.com/bts/eng/profile/', 'title': 'PROFILE | BTS | BIGHIT MUSIC', 'description': 'Profile of BTS - RM, Jin, SUGA, j-hope, Jimin, V, Jung Kook', 'language': 'en'}),\n",
       " Document(page_content='GeeksforGeeks | A computer science portal for geeks\\n\\n\\n\\n\\n\\n\\n\\n\\n\\n\\n\\n\\n\\n\\n\\n\\n\\n\\n\\n\\n\\n\\n\\n\\n\\n\\n\\n\\n\\n\\n\\n\\n\\n\\n\\n\\n\\n\\n\\n\\n\\n\\n\\nSkip to content', metadata={'source': 'https://www.geeksforgeeks.org/', 'title': 'GeeksforGeeks | A computer science portal for geeks', 'description': 'A Computer Science portal for geeks. It contains well written, well thought and well explained computer science and programming articles, quizzes and practice/competitive programming/company interview Questions.', 'language': 'en-US'}),\n",
       " Document(page_content='CoursesDSA to DevelopmentCoding for EveryoneFor Working ProfessionalsInterview 101: DSA & System DesignData Science Training ProgramJAVA Backend Development (Live)DevOps Engineering (LIVE)Software Testing & Automation (Live)Data Structures & Algorithms in PythonFor StudentsInterview Preparation CourseData Science (Live)Data Structure & Algorithm-Self Paced (C++/JAVA)Master Competitive Programming (Live)Full Stack Development with React & Node JS (Live)GATE Exam CoursesGATE CS & ITGATE DA & AIGATE Classroom Course (NCR)For School StudentsCBSE Class 12 Computer ScienceSchool GuidePython Programming FoundationAll CoursesTutorialsData Structures & AlgorithmsDSA for BeginnersData StructuresArraysMatrixStringsLinked ListSingly Linked ListDoubly Linked ListCircular Linked ListDoubly Circular Linked ListLinked List TutorialStackQueueTreeGeneric TreeBinary TreeBinary Search TreeAVL TreeB TreeB+ TreeRed Black TreeTree Data Structure TutorialHeapHashingGraphSet Data StructureMap Data', metadata={'source': 'https://www.geeksforgeeks.org/', 'title': 'GeeksforGeeks | A computer science portal for geeks', 'description': 'A Computer Science portal for geeks. It contains well written, well thought and well explained computer science and programming articles, quizzes and practice/competitive programming/company interview Questions.', 'language': 'en-US'}),\n",
       " Document(page_content='Linked ListLinked List TutorialStackQueueTreeGeneric TreeBinary TreeBinary Search TreeAVL TreeB TreeB+ TreeRed Black TreeTree Data Structure TutorialHeapHashingGraphSet Data StructureMap Data StructureAdvanced Data StructureData Structures TutorialAlgorithmsAnalysis of AlgorithmsDesign and Analysis of AlgorithmsAsymptotic AnalysisAsymptotic NotationsWorst, Average and Best CasesSearching AlgorithmsLinear SearchBinary SearchSearching Algorithms TutorialSorting AlgorithmsSelection SortBubble SortInsertion SortMerge SortQuick SortHeap SortCounting SortRadix SortBucket SortSorting Algorithms TutorialGreedy AlgorithmsDynamic ProgrammingGraph AlgorithmsPattern SearchingRecursionBacktrackingDivide and ConquerMathematical AlgorithmsGeometric AlgorithmsBitwise AlgorithmsRandomized AlgorithmsBranch and BoundAlgorithms TutorialComplete DSA TutorialCompetitive ProgrammingCompany Wise SDE SheetsFacebook SDE SheetAmazon SDE SheetApple SDE SheetNetflix SDE SheetGoogle SDE SheetWipro Coding', metadata={'source': 'https://www.geeksforgeeks.org/', 'title': 'GeeksforGeeks | A computer science portal for geeks', 'description': 'A Computer Science portal for geeks. It contains well written, well thought and well explained computer science and programming articles, quizzes and practice/competitive programming/company interview Questions.', 'language': 'en-US'}),\n",
       " Document(page_content='and BoundAlgorithms TutorialComplete DSA TutorialCompetitive ProgrammingCompany Wise SDE SheetsFacebook SDE SheetAmazon SDE SheetApple SDE SheetNetflix SDE SheetGoogle SDE SheetWipro Coding SheetInfosys Coding SheetTCS Coding SheetCognizant Coding SheetHCL Coding SheetDSA Cheat SheetsDSA Sheet for BeginnersSDE SheetsFAANG Coding SheetLove Babbaar SheetMass Recruiter SheetProduct-Based Coding SheetCompany-Wise Preparation Sheet100 Days of CodeTop Interview QuestionsTop 100 DSA Interview Questions Topic-wiseTop 50 Array ProblemsTop 50 String ProblemsTop 50 Stack ProblemsTop 50 Heap ProblemsTop 50 Linked List ProblemsTop 50 Tree ProblemsTop 50 Graph ProblemsTop 50 Problems on Recursion AlgorithmsTop 20 Interview Questions on Greedy AlgorithmsTop 20 Interview Questions on Dynamic ProgrammingTop 50 Problems on Dynamic Programming (DP)Top 20 Interview Questions on HashingInterview Questions on Top 10 AlgorithmsCommonly Asked Data Structure Interview QuestionsDSA BlogsPuzzlesAll PuzzlesTop', metadata={'source': 'https://www.geeksforgeeks.org/', 'title': 'GeeksforGeeks | A computer science portal for geeks', 'description': 'A Computer Science portal for geeks. It contains well written, well thought and well explained computer science and programming articles, quizzes and practice/competitive programming/company interview Questions.', 'language': 'en-US'}),\n",
       " Document(page_content='50 Problems on Dynamic Programming (DP)Top 20 Interview Questions on HashingInterview Questions on Top 10 AlgorithmsCommonly Asked Data Structure Interview QuestionsDSA BlogsPuzzlesAll PuzzlesTop 100 Puzzles Asked In InterviewsTop 20 Puzzles Commonly Asked During SDE InterviewsTop MCQs on Puzzles with AnswersCrossword Puzzle Of The WeekPythonPython TutorialPython ExercisesPython List ExercisePython String ExercisePython Tuple ExercisePython Dictionary ExercisePython Set ExercisePython QuizPython ProgramsAdvanced Python TutorialPython GUIPython Tkinter TutorialKivy TutorialPython Turtle TutorialPyGame TutorialPython API TutorialPython DatabasePython Database TutorialPython SQLitePython MongoDB TutorialPython JSONPython AutomationPython AutomationPython Web ScrapingPython Requests TutorialSelenium PythonPython Cheat SheetPython ProjectsPython Interview QuestionsML & Data ScienceMachine LearningMachine Learning TutorialMaths for MLMachine Learning with PythonMachine Learning with RML', metadata={'source': 'https://www.geeksforgeeks.org/', 'title': 'GeeksforGeeks | A computer science portal for geeks', 'description': 'A Computer Science portal for geeks. It contains well written, well thought and well explained computer science and programming articles, quizzes and practice/competitive programming/company interview Questions.', 'language': 'en-US'}),\n",
       " Document(page_content='PythonPython Cheat SheetPython ProjectsPython Interview QuestionsML & Data ScienceMachine LearningMachine Learning TutorialMaths for MLMachine Learning with PythonMachine Learning with RML Projects100 Days of Machine LearningData Science using PythonData Science using RData Science PackagesPandas TutorialNumPy TutorialData VisualizationData Visualization with PythonPython Data Visualization TutorialMatplotlib TutorialBokeh TutorialPlotly TutorialSeaborn TutorialData Visualization with RData Visualization with RPlotly Tutorialggplot TutorialData Visualization ToolsTableauPower BIData AnalysisData Analysis with PythonData Analysis with R100 Days of Data AnalyticsDeep LearningDeep Learning TutorialDeep Learning ProjectsNLP TutorialOpenCV TutorialInterview QuestionsMachine Learning Interview QuestionDeep Learning Interview QuestionPython Interview QuestionsTop 50 R Interview QuestionsML FrameworksTensorflowPyTorchPyTorch LightningSystem DesignSystem Design TutorialWhat is System DesignKey', metadata={'source': 'https://www.geeksforgeeks.org/', 'title': 'GeeksforGeeks | A computer science portal for geeks', 'description': 'A Computer Science portal for geeks. It contains well written, well thought and well explained computer science and programming articles, quizzes and practice/competitive programming/company interview Questions.', 'language': 'en-US'}),\n",
       " Document(page_content='Learning Interview QuestionPython Interview QuestionsTop 50 R Interview QuestionsML FrameworksTensorflowPyTorchPyTorch LightningSystem DesignSystem Design TutorialWhat is System DesignKey Terminologies in System DesignAnalysis and Architecture of SystemsScalability in System DesignDatabases in System DesignHigh Level Design or HLDLow Level Design or LLDCommunication ProtocolsWeb Servers and ProxiesCase Studies in Designing SystemsComplete System Design TutorialSoftware Design PatternsFactory PatternObserver PatternSingleton Design PatternDecorator PatternStrategy PatternAdapter PatternCommand PatternIterator PatternPrototype Design PatternAll Design PatternsSystem Design RoadmapTop 10 System Design Interview Questions and AnswersInterview CornerCompany PreparationTop TopicsPractice Company QuestionsInterview ExperiencesExperienced InterviewsInternship InterviewsCompetitive ProgrammingMultiple Choice QuizzesAptitude for PlacementsLanguagesCC++JavaR TutorialC#SQLScalaPerlGo LanguageWeb', metadata={'source': 'https://www.geeksforgeeks.org/', 'title': 'GeeksforGeeks | A computer science portal for geeks', 'description': 'A Computer Science portal for geeks. It contains well written, well thought and well explained computer science and programming articles, quizzes and practice/competitive programming/company interview Questions.', 'language': 'en-US'}),\n",
       " Document(page_content='QuestionsInterview ExperiencesExperienced InterviewsInternship InterviewsCompetitive ProgrammingMultiple Choice QuizzesAptitude for PlacementsLanguagesCC++JavaR TutorialC#SQLScalaPerlGo LanguageWeb DevelopmentHTMLHTML TutorialFree HTML CourseHTML Cheat SheetCSSCSS TutorialFree CSS CourseCSS Cheat SheetCSS Preprocessors (SASS)JavaScriptJavaScript TutorialJavaScript ProgramsJavaScript QuestionsJavaScript Cheat SheetDSA using JavaScriptFree JavaScript CourseJavaScript A to Z Complete GuideTypeScriptReactJSReactJS TutorialFree ReactJS CourseReactJS Cheat SheetReactJS FrameworksNextJSReact BootstrapReact Material UIReact NativeNode.jsNode.js TutorialExpress.jsPHPPHP TutorialFree PHP CoursePHP Programming ExamplesAngularJSAngularJS TutorialAngularJS Cheat SheetAngular PrimeNGAngular ngx BootstrapjQueryjQuery TutorialjQuery Cheat SheetjQuery UICSS Frameworks & LibrariesBootstrapTailwind CSSBulmaPure CSSMaterialize CSSFoundationSemantic UIJS Other Frameworks &', metadata={'source': 'https://www.geeksforgeeks.org/', 'title': 'GeeksforGeeks | A computer science portal for geeks', 'description': 'A Computer Science portal for geeks. It contains well written, well thought and well explained computer science and programming articles, quizzes and practice/competitive programming/company interview Questions.', 'language': 'en-US'}),\n",
       " Document(page_content='PrimeNGAngular ngx BootstrapjQueryjQuery TutorialjQuery Cheat SheetjQuery UICSS Frameworks & LibrariesBootstrapTailwind CSSBulmaPure CSSMaterialize CSSFoundationSemantic UIJS Other Frameworks & LibrariesLodashD3.jsVue.jsUnderscore.jsTensorFlow.jsp5.jsWeb Development Using PythonDjangoGetting started with DjangoCreate an App in DjangoViews In DjangoDjango TemplatesDjango URL patternsDjango Admin InterfaceDjango ModelsMySQL Databased with DjangoDjango CRUDDjango FormsDjango Static FileProjects for BeginnersDjango Interview QuestionsDjango TutorialFlaskWeb Development Using FlaskFlask App RoutingURL building in FlaskFlask TemplatesTemplating With Jinja2 in FlaskFlask ModelDatabase with Flask SQL AlchemyAuthentication with FlaskWTForms in FlaskStatic files in FlaskPython Flask ProjectsFlask Interview QuestionsFrontend ProjectsBuilding a Survey Form using HTML and CSSFood delivery system using HTML and CSSToDo webapp using DjangoBuilding Blog CMSAdd Pagination in DjangoTailwind CSS with', metadata={'source': 'https://www.geeksforgeeks.org/', 'title': 'GeeksforGeeks | A computer science portal for geeks', 'description': 'A Computer Science portal for geeks. It contains well written, well thought and well explained computer science and programming articles, quizzes and practice/competitive programming/company interview Questions.', 'language': 'en-US'}),\n",
       " Document(page_content='Interview QuestionsFrontend ProjectsBuilding a Survey Form using HTML and CSSFood delivery system using HTML and CSSToDo webapp using DjangoBuilding Blog CMSAdd Pagination in DjangoTailwind CSS with DjangoDjango with ReactjsSeleniumPostmanGithubWeb Design100 Days of Web DevelopmentCS SubjectsEngineering MathematicsOperating SystemDBMSComputer NetworksComputer Organization and ArchitectureTheory of ComputationCompiler DesignDigital LogicSoftware EngineeringDevOpsDevOps TutorialGITAWSKubernetesDockerMicrosoft Azure TutorialGoogle Cloud PlatformDevOps RoadmapInterview QuestionsDocker Interview QuestionsAWS Interview QuestionsJenkins Interview QuestionsAnsible Interview QuestionLinuxLinux TutorialLinux Commands A-ZLinux Commands Cheatsheet25 Basic Linux CommandsFile Mangement in LinuxFile Permission Commandschmod Commandchown Commandchgrp Commandunmask CommandLinux System AdministrationLinux File SystemLinux Shell ScriptingLinux NetworkingLinux FirewallLinux Interview QuestionsSchool', metadata={'source': 'https://www.geeksforgeeks.org/', 'title': 'GeeksforGeeks | A computer science portal for geeks', 'description': 'A Computer Science portal for geeks. It contains well written, well thought and well explained computer science and programming articles, quizzes and practice/competitive programming/company interview Questions.', 'language': 'en-US'}),\n",
       " Document(page_content='Permission Commandschmod Commandchown Commandchgrp Commandunmask CommandLinux System AdministrationLinux File SystemLinux Shell ScriptingLinux NetworkingLinux FirewallLinux Interview QuestionsSchool LearningMathematics (Class 8-12)Number SystemAlgebraLinear AlgebraTrigonometrySet TheoryStatisticsProbabilityGeometryMensurationLogarithmsCalculusMaths Notes (Class 8-12)Class 8 NotesClass 9 NotesClass 10 NotesClass 11 NotesClass 12 NotesMaths Formulas (Class 8 -11)Class 8 FormulasClass 9 FormulasClass 10 FormulasClass 11 FormulasMath CalculatorsMaths Solutions(Class 8-12)NCERT SolutionsClass 8 Maths SolutionClass 9 Maths SolutionClass 10 Maths SolutionClass 11 Maths SolutionClass 12 Maths SolutionRD Sharma SolutionsClass 8 Maths SolutionClass 9 Maths SolutionClass 10 Maths SolutionClass 11 Maths SolutionClass 12 Maths SolutionPhysics Notes (Class 8-12)Class 8 NotesClass 9 NotesClass 10 NotesClass 11 NotesClass 12 NotesChemistry Notes (Class 8-12)Class 8 NotesClass 9 NotesClass 10', metadata={'source': 'https://www.geeksforgeeks.org/', 'title': 'GeeksforGeeks | A computer science portal for geeks', 'description': 'A Computer Science portal for geeks. It contains well written, well thought and well explained computer science and programming articles, quizzes and practice/competitive programming/company interview Questions.', 'language': 'en-US'}),\n",
       " Document(page_content='11 Maths SolutionClass 12 Maths SolutionPhysics Notes (Class 8-12)Class 8 NotesClass 9 NotesClass 10 NotesClass 11 NotesClass 12 NotesChemistry Notes (Class 8-12)Class 8 NotesClass 9 NotesClass 10 NotesClass 11 NotesClass 12 NotesBiology Notes (Class 8-12)Class 8Class 9Class 10Class 11Class 12Science Notes(Class 8-10)Class 8 NotesClass 9 NotesClass 10 NotesSocial Science Notes(Class 7-10)SS Notes (Class 7-10)Class 7 NotesClass 8 NotesClass 9 NotesClass 10 NotesCBSE History Notes (Class 7-10)History Class 7History Class 8History Class 9History Class 10CBSE Geography Notes (Class 7-10)Geo. Class 7Geo. Class 8Geo. Class 9Geo. Class 10CBSE Civics Notes (Class 7-10)Civics Class 7Civics Class 8Civics Class 9Civics Class 10Social Science Syllabus (Class 7-10)Class 7 SS SyllabusClass 8 SS SyllabusClass 9 SS SyllabusClass 10 SS SyllabusEnglish GrammarCBSE Syllabus(Class 8-12)Class 8 SyllabusClass 9 SyllabusClass 10 SyllabusClass 11 SyllabusClass 12 SyllabusCBSE Previous Year', metadata={'source': 'https://www.geeksforgeeks.org/', 'title': 'GeeksforGeeks | A computer science portal for geeks', 'description': 'A Computer Science portal for geeks. It contains well written, well thought and well explained computer science and programming articles, quizzes and practice/competitive programming/company interview Questions.', 'language': 'en-US'}),\n",
       " Document(page_content='8 SS SyllabusClass 9 SS SyllabusClass 10 SS SyllabusEnglish GrammarCBSE Syllabus(Class 8-12)Class 8 SyllabusClass 9 SyllabusClass 10 SyllabusClass 11 SyllabusClass 12 SyllabusCBSE Previous Year PapersMathsPhysicsHistoryGeorgraphyPolitical ScienceEconomicsSchool ProgrammingIIT JEEJEE Main 2024JEE Main Exam PatternJEE Main Exam DateJEE Main Syllabus 2024JEE Maths SyllabusJEE Physics SyllabusJEE Chemistry SyllabusJEE Complete SyllabusJEE Main Admin CardJEE Advanced 2024JEE Advanced Syllabus 2024CommerceBusiness StudiesClass 11th NotesClass 12th NotesBusiness Studies Complete GuideAccountancyClass 11th NotesClass 12th NotesAccountancy Complete GuideMicroeconomicsClass 11th NotesMicroeconomics Complete GuideStatistics for EconomicsClass 11th NotesStatistics for Economics Complete GuideMacroeconomicsClass 12th notesMacroeconomics Complete GuideIndian Economic DevelopmentClass 12th NotesIndian Economic Development Complete GuideHuman Resource Management (HRM)ManagementIncome', metadata={'source': 'https://www.geeksforgeeks.org/', 'title': 'GeeksforGeeks | A computer science portal for geeks', 'description': 'A Computer Science portal for geeks. It contains well written, well thought and well explained computer science and programming articles, quizzes and practice/competitive programming/company interview Questions.', 'language': 'en-US'}),\n",
       " Document(page_content='GuideMacroeconomicsClass 12th notesMacroeconomics Complete GuideIndian Economic DevelopmentClass 12th NotesIndian Economic Development Complete GuideHuman Resource Management (HRM)ManagementIncome TaxFinanceCommerce Complete GuideGATEGATE CS/IT Test Series 2024GATE Computer Science NotesLast Minute NotesGATE CS Solved PapersGATE CS Original Papers and Official KeysGATE CS 2024 SyllabusGATE 2024 Important DatesGATE Data Science and AI 2024Other CS ExamsISROISRO CS Original Papers and Official KeysISRO CS Solved PapersISRO CS Syllabus for Scientist/Engineer ExamUGC NETUGC NET CS Notes Paper IIUGC NET CS Notes Paper IIIUGC NET CS Solved PapersUPSC and SSC/BankingBanking Exams Study MaterialRRB Clerk 2023 ExamSBI ClerkSBI Clerk SyllabusGeneral AwarenessEnglishQuantitative AptitudeReasoning AbilitySBI Clerk Practice PapersSBI POSBI PO SyllabusGeneral AwarenessEnglishQuantitative AptitudeReasoning AbilityPrevious Year PapersSBI PO Practice PapersIBPS ClerkIBPS Clerk SyllabusEnglish', metadata={'source': 'https://www.geeksforgeeks.org/', 'title': 'GeeksforGeeks | A computer science portal for geeks', 'description': 'A Computer Science portal for geeks. It contains well written, well thought and well explained computer science and programming articles, quizzes and practice/competitive programming/company interview Questions.', 'language': 'en-US'}),\n",
       " Document(page_content='AbilitySBI Clerk Practice PapersSBI POSBI PO SyllabusGeneral AwarenessEnglishQuantitative AptitudeReasoning AbilityPrevious Year PapersSBI PO Practice PapersIBPS ClerkIBPS Clerk SyllabusEnglish NotesPrevious Year PapersIBPS POIBPS PO 2022 SyllabusEnglish NotesReasoning NotesPrevious Year PapersMock Question PapersGeneral AwarenessUPSC Study MaterialGeography NotesHistory NotesModern Indian History NotesMedieval Indian History NotesAncient Indian History NotesComplete History NotesScience & Tech. NotesEthics NotesPolity NotesEconomics NotesGovernment Schemes (Updated)UPSC Previous Year PapersSSC CGL Study MaterialSSC CGL SyllabusGeneral StudiesEnglishReasoningSubjectwise Practice PapersPrevious Year PapersGeeksforGeeks VideosData StructuresArraysStringsLinked ListStackQueueTreeSDE SheetPythonJavaC++Data ScienceComputer Science SubjectsJobsGet Hired: Apply for JobsCorporate Hiring SolutionsPracticeAll DSA ProblemsProblem of the DayCompany Wise Coding', metadata={'source': 'https://www.geeksforgeeks.org/', 'title': 'GeeksforGeeks | A computer science portal for geeks', 'description': 'A Computer Science portal for geeks. It contains well written, well thought and well explained computer science and programming articles, quizzes and practice/competitive programming/company interview Questions.', 'language': 'en-US'}),\n",
       " Document(page_content=\"ListStackQueueTreeSDE SheetPythonJavaC++Data ScienceComputer Science SubjectsJobsGet Hired: Apply for JobsCorporate Hiring SolutionsPracticeAll DSA ProblemsProblem of the DayCompany Wise Coding PracticeAmazonMicrosoftFlipkartExplore AllGfG SDE SheetPractice Problems Difficulty WiseSchoolBasicEasyMediumHardLanguage Wise Coding PracticeCPPJavaPythonCurated DSA ListsBeginner's DSA SheetLove Babbar SheetTop 50 Array ProblemsTop 50 String ProblemsTop 50 DP ProblemsTop 50 Graph ProblemsTop 50 Tree ProblemsContestsJob-A-Thon Hiring ChallengeGet Internship via GfG WeeklyAll Contests and Events\", metadata={'source': 'https://www.geeksforgeeks.org/', 'title': 'GeeksforGeeks | A computer science portal for geeks', 'description': 'A Computer Science portal for geeks. It contains well written, well thought and well explained computer science and programming articles, quizzes and practice/competitive programming/company interview Questions.', 'language': 'en-US'}),\n",
       " Document(page_content='Home\\n\\n\\n\\n\\nSaved Videos\\n\\n\\n\\nCourses\\n\\n\\n\\n\\n\\n\\nData Structures and Algorithms\\n\\nDSA Tutorial\\nData Structures Tutorial\\nAlgorithms Tutorial\\nTop 100 DSA Interview Questions\\nDSA-Roadmap[Basic-to-Advanced]\\n\\n\\n\\n\\n\\nML & Data Science\\n\\nLearn Python\\nData Science Tutorial\\nMachine Learning Tutorial\\nDeep Learning Tutorial\\nNLP Tutorial\\nComputer Vision Tutorial\\n\\n\\n\\n\\n\\nWeb Development\\n\\nHTML Tutorial\\nCSS Tutorial\\nJavaScript Tutorial\\nReactJS Tutorial\\nNodeJS Tutorial\\n\\n\\n\\n\\n\\nLanguages\\n\\nC\\nC++\\nJava\\nR Tutorial\\nGolang\\n\\n\\n\\n\\n\\nInterview Corner\\n\\nCompany Interview Corner\\nExperienced Interviews\\nInternship Experiences\\nPractice Company Questions\\nCompetitive Programming\\n\\n\\n\\n\\n\\nCS Subjects\\n\\nOperating Systems\\nDBMS\\nComputer Networks\\nSoftware Engineering\\nSoftware Testing\\n\\n\\n\\n\\n\\nJobs\\n\\nGet Hired: Apply for Jobs\\nJob-a-thon: Hiring Challenge\\nCorporate Hiring Solutions\\n\\n\\n\\n\\n\\nPractice', metadata={'source': 'https://www.geeksforgeeks.org/', 'title': 'GeeksforGeeks | A computer science portal for geeks', 'description': 'A Computer Science portal for geeks. It contains well written, well thought and well explained computer science and programming articles, quizzes and practice/competitive programming/company interview Questions.', 'language': 'en-US'}),\n",
       " Document(page_content=\"CS Subjects\\n\\nOperating Systems\\nDBMS\\nComputer Networks\\nSoftware Engineering\\nSoftware Testing\\n\\n\\n\\n\\n\\nJobs\\n\\nGet Hired: Apply for Jobs\\nJob-a-thon: Hiring Challenge\\nCorporate Hiring Solutions\\n\\n\\n\\n\\n\\nPractice\\n\\nAll DSA Problems\\nProblem of the Day\\nGFG SDE Sheet\\nBeginner's DSA Sheet\\nLove Babbar Sheet\\nTop 50 Array Problems\\nTop 50 String Problems\\nTop 50 DP Problems\\nTop 50 Graph Problems\\nTop 50 Tree Problems\\n\\n\\n\\n\\n\\nContests\\n\\nWorld Cup Hack-A-Thon\\nGFG Weekly Coding Contest\\nJob-A-Thon: Hiring Challenge\\nBiWizard School Contest\\nAll Contests and Events\\n\\n\\n\\n\\nGBlog\\n\\n\\nPuzzles\\n\\n\\nWhat's New ?\\n\\n\\n\\n\\n\\n\\n\\n\\n\\nChange Language \\r\\n                    \\n\\n\\n\\n\\n\\n\\n\\n\\n\\n\\n\\nTrending NowDSAWeb TechFoundational CoursesData SciencePractice ProblemPythonMachine LearningJavaScriptSystem DesignDjangoDevOps TutorialJavaC C++ReactJSNodeJSWeb DesignWeb BrowserCP LiveAptitudePuzzlesProjects \\n\\n\\n\\n\\n▲\", metadata={'source': 'https://www.geeksforgeeks.org/', 'title': 'GeeksforGeeks | A computer science portal for geeks', 'description': 'A Computer Science portal for geeks. It contains well written, well thought and well explained computer science and programming articles, quizzes and practice/competitive programming/company interview Questions.', 'language': 'en-US'}),\n",
       " Document(page_content='▲\\n\\n\\n\\n\\n\\n\\n\\n\\n\\n\\n\\n\\n\\n\\n\\n\\n\\n\\n\\n\\n\\n\\n\\n\\n\\n\\n\\n\\n\\n\\n\\n\\n\\n\\n\\n\\n\\n\\n\\n\\n\\n\\n\\n\\n\\n\\n\\n\\n\\n\\n\\n\\r\\n                     A-143, 9th Floor, Sovereign Corporate Tower, Sector-136, Noida, Uttar Pradesh - 201305', metadata={'source': 'https://www.geeksforgeeks.org/', 'title': 'GeeksforGeeks | A computer science portal for geeks', 'description': 'A Computer Science portal for geeks. It contains well written, well thought and well explained computer science and programming articles, quizzes and practice/competitive programming/company interview Questions.', 'language': 'en-US'}),\n",
       " Document(page_content='CompanyAbout UsLegalCareersIn MediaContact UsAdvertise with usGFG Corporate SolutionPlacement Training ProgramExploreJob-A-Thon Hiring ChallengeHack-A-ThonGfG Weekly ContestOffline Classes (Delhi/NCR)DSA in JAVA/C++Master System DesignMaster CPGeeksforGeeks VideosGeeks CommunityLanguagesPythonJavaC++PHPGoLangSQLR LanguageAndroid TutorialDSAData StructuresAlgorithmsDSA for BeginnersBasic DSA ProblemsDSA RoadmapDSA Interview QuestionsCompetitive ProgrammingData Science & MLData Science With PythonData Science For BeginnerMachine Learning TutorialML MathsData Visualisation TutorialPandas TutorialNumPy TutorialNLP TutorialDeep Learning TutorialWeb TechnologiesHTMLCSSJavaScriptTypeScriptReactJSNextJSNodeJsBootstrapTailwind CSSPython TutorialPython Programming ExamplesDjango TutorialPython ProjectsPython TkinterWeb ScrapingOpenCV TutorialPython Interview QuestionComputer ScienceGATE CS NotesOperating SystemsComputer NetworkDatabase Management SystemSoftware EngineeringDigital Logic', metadata={'source': 'https://www.geeksforgeeks.org/', 'title': 'GeeksforGeeks | A computer science portal for geeks', 'description': 'A Computer Science portal for geeks. It contains well written, well thought and well explained computer science and programming articles, quizzes and practice/competitive programming/company interview Questions.', 'language': 'en-US'}),\n",
       " Document(page_content='ProjectsPython TkinterWeb ScrapingOpenCV TutorialPython Interview QuestionComputer ScienceGATE CS NotesOperating SystemsComputer NetworkDatabase Management SystemSoftware EngineeringDigital Logic DesignEngineering MathsDevOpsGitAWSDockerKubernetesAzureGCPDevOps RoadmapSystem DesignHigh Level DesignLow Level DesignUML DiagramsInterview GuideDesign PatternsOOADSystem Design BootcampInterview QuestionsSchool SubjectsMathematicsPhysicsChemistryBiologySocial ScienceEnglish GrammarCommerceAccountancyBusiness StudiesEconomicsManagementHR ManagementFinanceIncome TaxUPSC Study MaterialPolity NotesGeography NotesHistory NotesScience and Technology NotesEconomy NotesEthics NotesPrevious Year PapersPreparation CornerCompany-Wise Recruitment ProcessResume TemplatesAptitude PreparationPuzzlesCompany-Wise PreparationCompaniesCollegesCompetitive ExamsJEE AdvancedUGC NETSSC CGLSBI POSBI ClerkIBPS POIBPS ClerkMore TutorialsSoftware DevelopmentSoftware TestingProduct ManagementProject', metadata={'source': 'https://www.geeksforgeeks.org/', 'title': 'GeeksforGeeks | A computer science portal for geeks', 'description': 'A Computer Science portal for geeks. It contains well written, well thought and well explained computer science and programming articles, quizzes and practice/competitive programming/company interview Questions.', 'language': 'en-US'}),\n",
       " Document(page_content='PreparationCompaniesCollegesCompetitive ExamsJEE AdvancedUGC NETSSC CGLSBI POSBI ClerkIBPS POIBPS ClerkMore TutorialsSoftware DevelopmentSoftware TestingProduct ManagementProject ManagementLinuxExcelAll Cheat SheetsFree Online ToolsTyping TestImage EditorCode FormattersCode ConvertersCurrency ConverterRandom Number GeneratorRandom Password GeneratorWrite & EarnWrite an ArticleImprove an ArticlePick Topics to WriteShare your ExperiencesInternships', metadata={'source': 'https://www.geeksforgeeks.org/', 'title': 'GeeksforGeeks | A computer science portal for geeks', 'description': 'A Computer Science portal for geeks. It contains well written, well thought and well explained computer science and programming articles, quizzes and practice/competitive programming/company interview Questions.', 'language': 'en-US'}),\n",
       " Document(page_content='@GeeksforGeeks, Sanchhaya Education Private Limited, All rights reserved\\n\\n\\n\\n\\n\\n\\n\\n\\n\\n\\r\\n        We use cookies to ensure you have the best browsing experience on our website. By using our site, you\\r\\n        acknowledge that you have read and understood our\\r\\n        Cookie Policy &\\r\\n        Privacy Policy\\n\\n\\r\\n        Got It !', metadata={'source': 'https://www.geeksforgeeks.org/', 'title': 'GeeksforGeeks | A computer science portal for geeks', 'description': 'A Computer Science portal for geeks. It contains well written, well thought and well explained computer science and programming articles, quizzes and practice/competitive programming/company interview Questions.', 'language': 'en-US'})]"
      ]
     },
     "execution_count": 47,
     "metadata": {},
     "output_type": "execute_result"
    }
   ],
   "source": [
    "splits = text_splitter.split_documents(docs)\n",
    "splits"
   ]
  },
  {
   "cell_type": "markdown",
   "metadata": {},
   "source": [
    "Create Ollama embeddings"
   ]
  },
  {
   "cell_type": "code",
   "execution_count": 48,
   "metadata": {},
   "outputs": [],
   "source": [
    "embeddings = OllamaEmbeddings(model=\"mistral\")"
   ]
  },
  {
   "cell_type": "markdown",
   "metadata": {},
   "source": [
    "Dump the embedding into chroma vector store"
   ]
  },
  {
   "cell_type": "code",
   "execution_count": 51,
   "metadata": {},
   "outputs": [],
   "source": [
    "vectorstore = Chroma.from_documents(documents=splits, embedding=embeddings)"
   ]
  },
  {
   "cell_type": "markdown",
   "metadata": {},
   "source": [
    "Create the retriever"
   ]
  },
  {
   "cell_type": "code",
   "execution_count": 52,
   "metadata": {},
   "outputs": [],
   "source": [
    "retriever = vectorstore.as_retriever()"
   ]
  },
  {
   "cell_type": "markdown",
   "metadata": {},
   "source": [
    "Format the documents retrieved"
   ]
  },
  {
   "cell_type": "code",
   "execution_count": 53,
   "metadata": {},
   "outputs": [],
   "source": [
    "def format_docs(docs):\n",
    "    return \"\\n\\n\".join(doc.page_content for doc in docs)\n"
   ]
  },
  {
   "cell_type": "markdown",
   "metadata": {},
   "source": [
    "Define the Ollama LLM function"
   ]
  },
  {
   "cell_type": "code",
   "execution_count": 54,
   "metadata": {},
   "outputs": [],
   "source": [
    "\n",
    "def ollama_llm(question, context):\n",
    "    formatted_prompt = f\"Question: {question}\\n\\nContext: {context}\"\n",
    "    response = ollama.chat(model='mistral', messages=[{'role': 'user', 'content': formatted_prompt}])\n",
    "    return response['message']['content']\n"
   ]
  },
  {
   "cell_type": "markdown",
   "metadata": {},
   "source": [
    "Define the RAG chain"
   ]
  },
  {
   "cell_type": "code",
   "execution_count": 55,
   "metadata": {},
   "outputs": [],
   "source": [
    "def rag_chain(question):\n",
    "    retrieved_docs = retriever.invoke(question)\n",
    "    formatted_context = format_docs(retrieved_docs)\n",
    "    return ollama_llm(question, formatted_context)\n"
   ]
  },
  {
   "cell_type": "markdown",
   "metadata": {},
   "source": [
    "Use the RAG chain"
   ]
  },
  {
   "cell_type": "code",
   "execution_count": 56,
   "metadata": {},
   "outputs": [
    {
     "name": "stdout",
     "output_type": "stream",
     "text": [
      " The context provided appears to be a list of various courses offered by an educational platform or institution. Topics covered range from Data Structures and Algorithms in different programming languages, System Design, DevOps Engineering, Software Testing & Automation, Full Stack Development, GATE Exam preparation among others. Interspersed within this list are brief profiles of individuals named Jin, Suga, j-hope, Jimin, V, and Jung Kook, with their respective dates of birth. The profiles mention BTS and BigHit Music, suggesting that these individuals might be members of the popular South Korean boy band BTS. Therefore, it's safe to infer that this document is about educational courses offered by an institution and brief biographies of some renowned figures associated with the music industry, possibly BTS.\n"
     ]
    }
   ],
   "source": [
    "result = rag_chain(\"What is URL is about?\")\n",
    "print(result)"
   ]
  },
  {
   "cell_type": "markdown",
   "metadata": {},
   "source": [
    "RAG pipeline using ollama in gradio UI"
   ]
  },
  {
   "cell_type": "code",
   "execution_count": 62,
   "metadata": {},
   "outputs": [
    {
     "name": "stdout",
     "output_type": "stream",
     "text": [
      "Running on local URL:  http://127.0.0.1:7862\n",
      "\n",
      "To create a public link, set `share=True` in `launch()`.\n"
     ]
    },
    {
     "data": {
      "text/html": [
       "<div><iframe src=\"http://127.0.0.1:7862/\" width=\"100%\" height=\"500\" allow=\"autoplay; camera; microphone; clipboard-read; clipboard-write;\" frameborder=\"0\" allowfullscreen></iframe></div>"
      ],
      "text/plain": [
       "<IPython.core.display.HTML object>"
      ]
     },
     "metadata": {},
     "output_type": "display_data"
    },
    {
     "data": {
      "text/plain": []
     },
     "execution_count": 62,
     "metadata": {},
     "output_type": "execute_result"
    }
   ],
   "source": [
    "# Function to load, split, and retrieve documents\n",
    "def load_and_retrieve_docs(url):\n",
    "    loader = WebBaseLoader(\n",
    "        web_paths=(url,),\n",
    "        bs_kwargs=dict() \n",
    "    )\n",
    "    docs = loader.load()\n",
    "    text_splitter = RecursiveCharacterTextSplitter(chunk_size=1000, chunk_overlap=200)\n",
    "    splits = text_splitter.split_documents(docs)\n",
    "    embeddings = OllamaEmbeddings(model=\"mistral\")\n",
    "    vectorstore = Chroma.from_documents(documents=splits, embedding=embeddings)\n",
    "    return vectorstore.as_retriever()\n",
    "\n",
    "# Function to format documents\n",
    "def format_docs(docs):\n",
    "    return \"\\n\\n\".join(doc.page_content for doc in docs)\n",
    "\n",
    "# Function that defines the RAG chain\n",
    "def rag_chain(url, question):\n",
    "    retriever = load_and_retrieve_docs(url)\n",
    "    retrieved_docs = retriever.invoke(question)\n",
    "    formatted_context = format_docs(retrieved_docs)\n",
    "    formatted_prompt = f\"Question: {question}\\n\\nContext: {formatted_context}\"\n",
    "    response = ollama.chat(model='mistral', messages=[{'role': 'user', 'content': formatted_prompt}])\n",
    "    return response['message']['content']\n",
    "\n",
    "# Gradio interface\n",
    "iface = gr.Interface(\n",
    "    fn=rag_chain,\n",
    "    inputs=[\"text\", \"text\"],\n",
    "    outputs=\"text\",\n",
    "    title=\"RAG Chain Question Answering\",\n",
    "    description=\"Enter a URL and a query to get answers from the RAG chain.\"\n",
    ")\n",
    "\n",
    "# Launch the app\n",
    "iface.launch()"
   ]
  },
  {
   "cell_type": "markdown",
   "metadata": {},
   "source": [
    "Reference:\n",
    "\n",
    "https://www.youtube.com/watch?v=4HfSfFvLn9Q"
   ]
  }
 ],
 "metadata": {
  "kernelspec": {
   "display_name": "venv",
   "language": "python",
   "name": "python3"
  },
  "language_info": {
   "codemirror_mode": {
    "name": "ipython",
    "version": 3
   },
   "file_extension": ".py",
   "mimetype": "text/x-python",
   "name": "python",
   "nbconvert_exporter": "python",
   "pygments_lexer": "ipython3",
   "version": "3.9.11"
  }
 },
 "nbformat": 4,
 "nbformat_minor": 2
}
