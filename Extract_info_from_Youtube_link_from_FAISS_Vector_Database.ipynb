{
 "cells": [
  {
   "cell_type": "markdown",
   "metadata": {},
   "source": [
    "# Extract information from Youtube link using LLM Model"
   ]
  },
  {
   "cell_type": "markdown",
   "metadata": {},
   "source": [
    "Import all the necessary libraries"
   ]
  },
  {
   "cell_type": "code",
   "execution_count": 28,
   "metadata": {},
   "outputs": [],
   "source": [
    "import os\n",
    "from langchain_community.llms import HuggingFaceHub\n",
    "from langchain.chains import LLMChain\n",
    "from langchain.prompts import PromptTemplate \n",
    "from langchain_community.vectorstores.faiss import FAISS\n",
    "from langchain_community.document_loaders import YoutubeLoader\n",
    "from transformers import AutoTokenizer\n",
    "from langchain_text_splitters import CharacterTextSplitter\n",
    "from transformers import AutoTokenizer\n",
    "from langchain_community.embeddings import HuggingFaceInferenceAPIEmbeddings\n",
    "from dotenv import load_dotenv"
   ]
  },
  {
   "cell_type": "markdown",
   "metadata": {},
   "source": [
    "Load all the environmental variables"
   ]
  },
  {
   "cell_type": "code",
   "execution_count": 29,
   "metadata": {},
   "outputs": [
    {
     "data": {
      "text/plain": [
       "True"
      ]
     },
     "execution_count": 29,
     "metadata": {},
     "output_type": "execute_result"
    }
   ],
   "source": [
    "load_dotenv()"
   ]
  },
  {
   "cell_type": "markdown",
   "metadata": {},
   "source": [
    "Load the embedding model"
   ]
  },
  {
   "cell_type": "code",
   "execution_count": 18,
   "metadata": {},
   "outputs": [],
   "source": [
    "model_name = \"BAAI/bge-base-en-v1.5\"\n",
    "tokenizer = AutoTokenizer.from_pretrained(model_name)\n",
    "tokenizer.pad_token = tokenizer.eos_token"
   ]
  },
  {
   "cell_type": "markdown",
   "metadata": {},
   "source": [
    "Create a vector database using FAISS to store the content from Youtube link"
   ]
  },
  {
   "cell_type": "code",
   "execution_count": 30,
   "metadata": {},
   "outputs": [],
   "source": [
    "def create_vector_db_from_youtube_url(video_url):\n",
    "    loader = YoutubeLoader.from_youtube_url(video_url)\n",
    "    transcript = loader.load()\n",
    "    text_splitter = CharacterTextSplitter.from_huggingface_tokenizer(tokenizer, chunk_size=100, chunk_overlap=0)\n",
    "    docs = text_splitter.split_documents(transcript)\n",
    "    embeddings = HuggingFaceInferenceAPIEmbeddings(api_key = os.environ[\"HUGGINGFACEHUB_API_TOKEN\"], model_name = model_name)\n",
    "    db =  FAISS.from_documents(docs,embeddings)\n",
    "    return db"
   ]
  },
  {
   "cell_type": "markdown",
   "metadata": {},
   "source": [
    "Define the LLM Model and Prompt"
   ]
  },
  {
   "cell_type": "code",
   "execution_count": 20,
   "metadata": {},
   "outputs": [],
   "source": [
    "def get_response_from_query(db: FAISS ,query: str,k=4) -> FAISS:\n",
    "    docs=db.similarity_search(query,k=k)\n",
    "    docs_page_content = \" \".join([d.page_content for d in docs])\n",
    "    prompt = PromptTemplate(\n",
    "        input_variables = [\"question\",\"docs\"], template=\"\"\"\n",
    "        You are an Youtube extractor. Please be truthful and give direct answers. \n",
    "        Please tell 'I don't know' if user query is not in content.\n",
    "        \n",
    "        Answer the following question: \\n{question}\\n\\n\n",
    "        By searching the following transcript:\\n{docs}.\n",
    "        \\nAnswer:\"\"\"\n",
    "    )\n",
    "    model = HuggingFaceHub(repo_id = \"HuggingFaceH4/zephyr-7b-alpha\", model_kwargs = {\"temperature\":0.5, \"max_new_tokens\":512, \"max_length\":64})\n",
    "    chain = LLMChain(llm=model,prompt=prompt)\n",
    "    result=chain.run(question = query, docs = docs_page_content)\n",
    "    return result"
   ]
  },
  {
   "cell_type": "markdown",
   "metadata": {},
   "source": [
    "Shoot your question here\n",
    "\n",
    "youtube_url = \"https://youtu.be/lG7Uxts9SXs?si=MuNRnw4XSMrz-Uc6\"  \n",
    "\n",
    "Query: What is discussed in the video?"
   ]
  },
  {
   "cell_type": "code",
   "execution_count": 33,
   "metadata": {},
   "outputs": [
    {
     "data": {
      "text/plain": [
       "<langchain_community.vectorstores.faiss.FAISS at 0x1f84d406df0>"
      ]
     },
     "execution_count": 33,
     "metadata": {},
     "output_type": "execute_result"
    }
   ],
   "source": [
    "# This video contains docker explaination. In this video, no one talks. Just display the content with music. \n",
    "db = create_vector_db_from_youtube_url(video_url=\"https://www.youtube.com/watch?v=Q1H6ez7Ryfk\")\n",
    "db"
   ]
  },
  {
   "cell_type": "code",
   "execution_count": 34,
   "metadata": {},
   "outputs": [
    {
     "data": {
      "text/plain": [
       "\"\\n        You are an Youtube extractor. Please be truthful and give direct answers. \\n        Please tell 'I don't know' if user query is not in content.\\n        \\n        Answer the following question: \\nWhat is discussed in the video?\\n\\n\\n        By searching the following transcript:\\n[Music] so [Music] [Music] foreign [Music] you.\\n        \\nAnswer:\\nThe transcript provided does not directly indicate what is being discussed in the video. It appears to be background music or sound effects.\""
      ]
     },
     "execution_count": 34,
     "metadata": {},
     "output_type": "execute_result"
    }
   ],
   "source": [
    "response = get_response_from_query(db,query=\"What is discussed in the video?\")\n",
    "response"
   ]
  },
  {
   "cell_type": "markdown",
   "metadata": {},
   "source": [
    "### OUTPUT:\n",
    "\n",
    "You are an Youtube extractor. Please be truthful and give direct answers. Please tell 'I don't know' if user query is not in content.   \n",
    "\n",
    "Answer the following question: \\nWhat is discussed in the video?   \n",
    "\n",
    "By searching the following transcript: [Music] so [Music] [Music] foreign [Music] you.\n",
    "\n",
    "Answer:\n",
    "The transcript provided does not directly indicate what is being discussed in the video. It appears to be background music or sound effects."
   ]
  },
  {
   "cell_type": "code",
   "execution_count": 36,
   "metadata": {},
   "outputs": [
    {
     "data": {
      "text/plain": [
       "<langchain_community.vectorstores.faiss.FAISS at 0x1f84d40c0d0>"
      ]
     },
     "execution_count": 36,
     "metadata": {},
     "output_type": "execute_result"
    }
   ],
   "source": [
    "db = create_vector_db_from_youtube_url(video_url=\"https://www.youtube.com/watch?v=mxVkNGkzuxU\")\n",
    "db"
   ]
  },
  {
   "cell_type": "code",
   "execution_count": 37,
   "metadata": {},
   "outputs": [
    {
     "data": {
      "text/plain": [
       "\"\\n        You are an Youtube extractor. Please be truthful and give direct answers. \\n        Please tell 'I don't know' if user query is not in content.\\n        \\n        Answer the following question: \\nWhat is discussed in the video?\\n\\n\\n        By searching the following transcript:\\nwhat is tucker containerization explained in a simple story in my previous show we learned that containerization technology helps software run easily freely and independently but how to put software in a container how to run the container to answer those questions let's meet the hero behind the scene docker a container runtime and its processes what is docker what is container runtime what are the processes it sounds complicated no worries let's simply watch a short story this is docky ducky works on a dock he packs and loads cargos on vessels he helps his clients to ship stuff all over the world it is an important job doki likes his job one day a client named jane comes to the dock jane urgently needs to ship many different packages how to do that quickly docky gets a shipping instruction list it lists everything on how to ship jane's stuff in a container what type of container how to upload her stuff to the container and how to ship the container on the boat etc [Music] this is just like software containerization first a container runtime such as docker needs to be available on the server next a dockerfile is prepared with all the steps to pack the software to the container and to run the container on the server [Music] following the instructions ducky works diligently on building chains container this is exactly what the software docker is doing building the container following the dockerfile instructions [Music] when the container is done docky sticks a label on it and pushes it to the container warehouse waiting for the next shipping time for the software docker the finished container is called container image just like a container template similarly docker tags and pushes the image to the image registry the warehouse it is time to ship daki pulls the container out of the warehouse and uploads it to the boat now jane's stuff is ready to go to the world at the same time the software docker pulls out the image runs container instances on the server to serve the world [Music] congratulations now you understand docker the container runtime and its processes simple [Music] in the real chipping world things can be more complicated on a large scale with so many containers and operations orchestration is needed it is the same in the software world [Music] do you know who is the best container orchestrator comment it below keep learning no matter how complex it seems remember it is just a docking and shipping business simple [Music] you.\\n        \\nAnswer: The video discusses the concept of containerization in software and how Docker, a container runtime, helps with the process. The video uses a simple story to explain the process of building and shipping container images, highlighting the similarities between the real-world shipping business and software containerization. The video also briefly touches on container orchestration and mentions that it is needed for large-scale container operations.\""
      ]
     },
     "execution_count": 37,
     "metadata": {},
     "output_type": "execute_result"
    }
   ],
   "source": [
    "response = get_response_from_query(db,query=\"What is discussed in the video?\")\n",
    "response"
   ]
  },
  {
   "cell_type": "markdown",
   "metadata": {},
   "source": [
    "### OUTPUT:\n",
    "\n",
    "You are an Youtube extractor. Please be truthful and give direct answers. Please tell 'I don't know' if user query is not in content.\n",
    "\n",
    "Answer the following question: What is discussed in the video?\n",
    "\n",
    "By searching the following transcript:\n",
    "what is tucker containerization explained in a simple story in my previous show we learned that containerization technology helps software run easily freely and independently but how to put software in a container how to run the container to answer those questions let's meet the hero behind the scene docker a container runtime and its processes what is docker what is container runtime what are the processes it sounds complicated no worries let's simply watch a short story this is docky ducky works on a dock he packs and loads cargos on vessels he helps his clients to ship stuff all over the world it is an important job doki likes his job one day a client named jane comes to the dock jane urgently needs to ship many different packages how to do that quickly docky gets a shipping instruction list it lists everything on how to ship jane's stuff in a container what type of container how to upload her stuff to the container and how to ship the container on the boat etc [Music] this is just like software containerization first a container runtime such as docker needs to be available on the server next a dockerfile is prepared with all the steps to pack the software to the container and to run the container on the server [Music] following the instructions ducky works diligently on building chains container this is exactly what the software docker is doing building the container following the dockerfile instructions [Music] when the container is done docky sticks a label on it and pushes it to the container warehouse waiting for the next shipping time for the software docker the finished container is called container image just like a container template similarly docker tags and pushes the image to the image registry the warehouse it is time to ship daki pulls the container out of the warehouse and uploads it to the boat now jane's stuff is ready to go to the world at the same time the software docker pulls out the image runs container instances on the server to serve the world [Music] congratulations now you understand docker the container runtime and its processes simple [Music] in the real chipping world things can be more complicated on a large scale with so many containers and operations orchestration is needed it is the same in the software world [Music] do you know who is the best container orchestrator comment it below keep learning no matter how complex it seems remember it is just a docking and shipping business simple [Music] you.\n",
    "\n",
    "Answer: \n",
    "The video discusses the concept of containerization in software and how Docker, a container runtime, helps with the process. The video uses a simple story to explain the process of building and shipping container images, highlighting the similarities between the real-world shipping business and software containerization. The video also briefly touches on container orchestration and mentions that it is needed for large-scale container operations."
   ]
  },
  {
   "cell_type": "markdown",
   "metadata": {},
   "source": [
    "Create a streamlit interface"
   ]
  },
  {
   "cell_type": "code",
   "execution_count": 10,
   "metadata": {},
   "outputs": [],
   "source": [
    "import streamlit as st\n",
    "st.title(\"Youtube Assistant\")\n",
    "with st.sidebar:\n",
    "    with st.form(key='my_form'):\n",
    "        youtube_url = st.sidebar.text_area(\n",
    "            label=\"What is the Youtube video URL?\",\n",
    "            max_chars=50\n",
    "        )\n",
    "        query =st.sidebar.text_area(\n",
    "            label=\"Ask me about the video?\",\n",
    "            max_chars=50,\n",
    "            key = \"query\"\n",
    "        )\n",
    "        submit_button =st.form_submit_button(label=\"Submit\")\n",
    "if query and youtube_url:\n",
    "    db = create_vector_db_from_youtube_url(youtube_url)\n",
    "    response = get_response_from_query(db,query)\n",
    "    st.subheader(\"Answer: \")\n",
    "    st.text(response)"
   ]
  }
 ],
 "metadata": {
  "kernelspec": {
   "display_name": "venv",
   "language": "python",
   "name": "python3"
  },
  "language_info": {
   "codemirror_mode": {
    "name": "ipython",
    "version": 3
   },
   "file_extension": ".py",
   "mimetype": "text/x-python",
   "name": "python",
   "nbconvert_exporter": "python",
   "pygments_lexer": "ipython3",
   "version": "3.9.11"
  }
 },
 "nbformat": 4,
 "nbformat_minor": 2
}
