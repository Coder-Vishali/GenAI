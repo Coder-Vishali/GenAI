{
 "cells": [
  {
   "cell_type": "markdown",
   "metadata": {},
   "source": [
    "# Various Vector Database"
   ]
  },
  {
   "cell_type": "markdown",
   "metadata": {},
   "source": [
    "### Chroma DB\n",
    "\n",
    "- Open-source vector store used for storing and retrieving vector embeddings. \n",
    "- Main use is to save embeddings along with metadata to be used later by large language models.\n",
    "- Can also be used for semantic search engines over text data.\n",
    "- Offers a self-hosted server option.\n",
    "- Provides various options for storing vector embeddings.\n",
    "- Storing the vector database in-memory\n",
    "- Storing vector database in the local file system\n",
    "- Host the database on a server machine\n",
    " \n",
    "#### Working:\n",
    "\n",
    "- Install Chroma for vector database.\n",
    "- Initialize the client using the database(in-memory or persistent).\n",
    "- Create a collection object using client similar to creating a table in traditional database.\n",
    "- Add text data with metadata and unique IDs.\n",
    "- Then, Chroma will automatically download the all-MiniLM-L6-v2 model to convert the text into embeddings and store the in collection.\n",
    "- Ask the query in natural language, it will convert the query into embedding and use similarity search to similar results.\n",
    " \n",
    "#### Features:\n",
    "\n",
    "- Client Initialization: Chroma Db can initialize and accessed through client libraries.\n",
    "- Client/Server Mode: Chroma Db can run client- server mode.\n",
    " - Collection Management: We can create and manage collections of vectors.\n",
    "- Update and delete records: We can update or remove the values from collections."
   ]
  },
  {
   "cell_type": "markdown",
   "metadata": {},
   "source": [
    "### Pinecone:\n",
    "\n",
    "- Cloud-native vector database.\n",
    "- Core approach - based on the Approximate Nearest Neighbor (ANN) search that efficiently locates faster matches and ranks them within a large dataset.\n",
    "- Offers high-performance search and similarity matching.\n",
    "- Deals with high-dimensional vector data at a higher scale, easy integration, and faster query results.\n",
    "\n",
    "#### Features:\n",
    "\n",
    "- Dynamic data updates: Supports dynamic updates to vector data, allowing users to add, update, or delete vectors from the database in real-time.\n",
    "- Multi-Model Indexing: \n",
    "\n",
    "    Allows users to create custom indexing structures tailored to their specific data and query requirements.\n",
    "\n",
    "    Enables efficient indexing and retrieval of vector data in diverse use cases, including text search, image similarity, and recommendation systems.\n",
    "\n",
    "- Managed Service\n",
    "\n",
    "    eliminates the need for users to manage infrastructure by offering a cloud-based deployment model with automated provisioning, monitoring, and maintenance.\n",
    " \n",
    "- Low Latency Search\n",
    " \n",
    "    Similarity search operations and the nearest neighbor queries are performed with low latency, providing fast and accurate results."
   ]
  },
  {
   "cell_type": "markdown",
   "metadata": {},
   "source": [
    "### Open search\n",
    " \n",
    "- Formerly known as Amazon Elasticsearch Service (Amazon ES).\n",
    "- Open-source distributed search and analytics engine that allows users to index, search and analyze large volumes of structured and unstructured data in real time.\n",
    "- OpenSearch’s vector database bridges the gap between traditional search and AI-powered vector search, making it easier to build flexible, scalable, and future-proof AI applications.\n",
    " \n",
    "#### Features:\n",
    "\n",
    "- Hybrid Search\n",
    "    - combines traditional lexical search with vector search capabilities.\n",
    "    - can perform both text-based and vector-based searches within the same system.\n",
    "    - enhances search accuracy and relevance.\n",
    "- Generative AI enhancement\n",
    "    - Acts as a knowledge base for generative AI models (such as chatbots or language models).\n",
    "    - Used as a long-term memory for AI systems."
   ]
  },
  {
   "cell_type": "markdown",
   "metadata": {},
   "source": [
    "### Cassandra:\n",
    "- Open source vector database\n",
    "- Used to store vector data and perform similarity search operations.\n",
    "- Highly scalable, distributed NoSQL database designed for handling large volumes of structured and semi-structured data across multiple nodes in a cluster.\n",
    "- While it is primarily used for key-value and tabular data storage, it can also be adapted to store and query vector data for certain use cases.                \n",
    " \n",
    "#### Features              \n",
    "\n",
    "- Data Modeling\n",
    "    - Allows users to define flexible and schema-flexible data models suitable for storing vector data.\n",
    "    - Users can design table schemas to accommodate the dimensions, characteristics, and metadata associated with vector data.\n",
    "- Security and Access Control\n",
    "    - Offers robust security features, including authentication, authorization, encryption, and role-based access control (RBAC).\n",
    "    - Users can restrict access to vector data and resources based on user roles, permissions, and data sensitivity.   \n",
    "- Secondary Indexing\n",
    "    - Provides support for secondary indexing, allowing users to create indexes on specific columns or attributes within a table.\n",
    "- Custom Querying\n",
    "    - Users can execute custom queries to retrieve vector data based on specific criteria, such as similarity scores, distance metrics, or metadata attributes."
   ]
  },
  {
   "cell_type": "markdown",
   "metadata": {},
   "source": [
    "Reference:\n",
    "\n",
    "https://cassandra.apache.org/doc/latest/cassandra/vector-search/vector-search-working-with.html\n",
    "\n",
    "https://ubuntu.com/blog/what-is-opensearch\n",
    "\n",
    "https://docs.pinecone.io/reference/architecture/serverless-architecture\n",
    "\n",
    "https://www.datacamp.com/tutorial/chromadb-tutorial-step-by-step-guide"
   ]
  }
 ],
 "metadata": {
  "language_info": {
   "name": "python"
  }
 },
 "nbformat": 4,
 "nbformat_minor": 2
}
