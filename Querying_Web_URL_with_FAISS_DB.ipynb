{
 "cells": [
  {
   "cell_type": "markdown",
   "metadata": {},
   "source": [
    "# Information extraction from Web URL using FAISS Vector Database"
   ]
  },
  {
   "cell_type": "markdown",
   "metadata": {},
   "source": [
    "Import all necessary libraries"
   ]
  },
  {
   "cell_type": "code",
   "execution_count": 2,
   "metadata": {},
   "outputs": [],
   "source": [
    "from langchain_community.document_loaders import WebBaseLoader\n",
    "from langchain.text_splitter import RecursiveCharacterTextSplitter\n",
    "from langchain_community.embeddings import HuggingFaceInferenceAPIEmbeddings\n",
    "from langchain_community.llms import HuggingFaceHub\n",
    "from langchain_community.vectorstores.faiss import FAISS\n",
    "from langchain.prompts import PromptTemplate \n",
    "from langchain.chains import LLMChain\n",
    "from dotenv import load_dotenv\n",
    "import os"
   ]
  },
  {
   "cell_type": "markdown",
   "metadata": {},
   "source": [
    "Load all the environmental variables"
   ]
  },
  {
   "cell_type": "code",
   "execution_count": 3,
   "metadata": {},
   "outputs": [
    {
     "data": {
      "text/plain": [
       "True"
      ]
     },
     "execution_count": 3,
     "metadata": {},
     "output_type": "execute_result"
    }
   ],
   "source": [
    "load_dotenv()"
   ]
  },
  {
   "cell_type": "markdown",
   "metadata": {},
   "source": [
    "Load the data from Web URL"
   ]
  },
  {
   "cell_type": "code",
   "execution_count": 4,
   "metadata": {},
   "outputs": [],
   "source": [
    "# Define Web URL\n",
    "URL = [\"https://ibighit.com/bts/eng/profile/\",\"https://www.geeksforgeeks.org/\"]\n",
    "# Load the data\n",
    "data = WebBaseLoader(URL)"
   ]
  },
  {
   "cell_type": "markdown",
   "metadata": {},
   "source": [
    "Extract the content"
   ]
  },
  {
   "cell_type": "code",
   "execution_count": 5,
   "metadata": {},
   "outputs": [],
   "source": [
    "content = data.load()"
   ]
  },
  {
   "cell_type": "markdown",
   "metadata": {},
   "source": [
    "Convert the content into chunks"
   ]
  },
  {
   "cell_type": "code",
   "execution_count": 6,
   "metadata": {},
   "outputs": [],
   "source": [
    "text_splitter = RecursiveCharacterTextSplitter(chunk_size = 256,chunk_overlap = 50)\n",
    "chunking = text_splitter.split_documents(content)"
   ]
  },
  {
   "cell_type": "markdown",
   "metadata": {},
   "source": [
    "Convert these chunks into embedding"
   ]
  },
  {
   "cell_type": "code",
   "execution_count": 7,
   "metadata": {},
   "outputs": [],
   "source": [
    "embeddings = HuggingFaceInferenceAPIEmbeddings(api_key = os.environ[\"HUGGINGFACEHUB_API_TOKEN\"], model_name = \"BAAI/bge-base-en-v1.5\")"
   ]
  },
  {
   "cell_type": "markdown",
   "metadata": {},
   "source": [
    "Define the vector database"
   ]
  },
  {
   "cell_type": "code",
   "execution_count": 10,
   "metadata": {},
   "outputs": [],
   "source": [
    "vector_store =  FAISS.from_documents(chunking,embeddings)"
   ]
  },
  {
   "cell_type": "markdown",
   "metadata": {},
   "source": [
    "Retrieval the right content"
   ]
  },
  {
   "cell_type": "code",
   "execution_count": 11,
   "metadata": {},
   "outputs": [],
   "source": [
    "# Retrieval\n",
    "def retrieve_content(query):\n",
    "    docs_rel = vector_store.similarity_search(query,k=3)\n",
    "    docs_page_content = \" \".join([d.page_content for d in docs_rel])\n",
    "    return docs_page_content"
   ]
  },
  {
   "cell_type": "markdown",
   "metadata": {},
   "source": [
    "Augmentation"
   ]
  },
  {
   "cell_type": "code",
   "execution_count": 12,
   "metadata": {},
   "outputs": [],
   "source": [
    "prompt = PromptTemplate(\n",
    "        input_variables = [\"question\",\"docs\"], template=\"\"\"\n",
    "        You are an AI Assistant that follows instructions extremely well.\n",
    "        Please be truthful and give direct answers. Please tell 'I don't know' if user query is not in content\n",
    "        \n",
    "        Answer the following question: \\n{question}\\n\\n\n",
    "        By searching the following transcript:\\n{docs}.\n",
    "        \\nAnswer:\"\"\"\n",
    "    )"
   ]
  },
  {
   "cell_type": "markdown",
   "metadata": {},
   "source": [
    "Read the LLM model"
   ]
  },
  {
   "cell_type": "code",
   "execution_count": 13,
   "metadata": {},
   "outputs": [
    {
     "name": "stderr",
     "output_type": "stream",
     "text": [
      "c:\\Project_Files\\venv\\lib\\site-packages\\langchain_core\\_api\\deprecation.py:117: LangChainDeprecationWarning: The class `langchain_community.llms.huggingface_hub.HuggingFaceHub` was deprecated in langchain-community 0.0.21 and will be removed in 0.2.0. Use HuggingFaceEndpoint instead.\n",
      "  warn_deprecated(\n",
      "c:\\Project_Files\\venv\\lib\\site-packages\\tqdm\\auto.py:21: TqdmWarning: IProgress not found. Please update jupyter and ipywidgets. See https://ipywidgets.readthedocs.io/en/stable/user_install.html\n",
      "  from .autonotebook import tqdm as notebook_tqdm\n"
     ]
    }
   ],
   "source": [
    "model = HuggingFaceHub(repo_id = \"HuggingFaceH4/zephyr-7b-alpha\", model_kwargs = {\"temperature\":0.5, \"max_new_tokens\":512, \"max_length\":64})"
   ]
  },
  {
   "cell_type": "markdown",
   "metadata": {},
   "source": [
    "Create a application around the LLM model"
   ]
  },
  {
   "cell_type": "code",
   "execution_count": 14,
   "metadata": {},
   "outputs": [],
   "source": [
    "chain = LLMChain(llm=model,prompt=prompt)"
   ]
  },
  {
   "cell_type": "markdown",
   "metadata": {},
   "source": [
    "Shoot your question"
   ]
  },
  {
   "cell_type": "code",
   "execution_count": 19,
   "metadata": {},
   "outputs": [
    {
     "data": {
      "text/plain": [
       "'Trending NowDSAWeb TechFoundational CoursesData SciencePractice ProblemPythonMachine LearningJavaScriptSystem DesignDjangoDevOps TutorialJavaC C++ReactJSNodeJSWeb DesignWeb BrowserCP LiveAptitudePuzzlesProjects \\n\\n\\n\\n\\n▲ QuestionsJavaScript Cheat SheetDSA using JavaScriptFree JavaScript CourseJavaScript A to Z Complete GuideReactJSReactJS TutorialFree ReactJS CourseReactJS FrameworksNextJSReact Material UIReact BootstrapReact SuiteAnt DesignReactJS UIReact BootstrapReact SuiteAnt DesignReactJS ReactstrapBlueprintJSNode.jsNode.js TutorialExpress.jsPHPPHP TutorialPHP Programming ExamplesAngularJSAngularJS TutorialAngularJS Cheat SheetAngularJS FrameworksAngular PrimeNGAngular ngx BootstrapjQueryjQuery'"
      ]
     },
     "execution_count": 19,
     "metadata": {},
     "output_type": "execute_result"
    }
   ],
   "source": [
    "query = \"What is React.js\"\n",
    "docs_page_content = retrieve_content(query)\n",
    "docs_page_content"
   ]
  },
  {
   "cell_type": "code",
   "execution_count": 20,
   "metadata": {},
   "outputs": [
    {
     "data": {
      "text/plain": [
       "\"\\n        You are an AI Assistant that follows instructions extremely well.\\n        Please be truthful and give direct answers. Please tell 'I don't know' if user query is not in content\\n        \\n        Answer the following question: \\nWhat is React.js\\n\\n\\n        By searching the following transcript:\\nTrending NowDSAWeb TechFoundational CoursesData SciencePractice ProblemPythonMachine LearningJavaScriptSystem DesignDjangoDevOps TutorialJavaC C++ReactJSNodeJSWeb DesignWeb BrowserCP LiveAptitudePuzzlesProjects \\n\\n\\n\\n\\n▲ QuestionsJavaScript Cheat SheetDSA using JavaScriptFree JavaScript CourseJavaScript A to Z Complete GuideReactJSReactJS TutorialFree ReactJS CourseReactJS FrameworksNextJSReact Material UIReact BootstrapReact SuiteAnt DesignReactJS UIReact BootstrapReact SuiteAnt DesignReactJS ReactstrapBlueprintJSNode.jsNode.js TutorialExpress.jsPHPPHP TutorialPHP Programming ExamplesAngularJSAngularJS TutorialAngularJS Cheat SheetAngularJS FrameworksAngular PrimeNGAngular ngx BootstrapjQueryjQuery.\\n        \\nAnswer: React.js is a JavaScript library for building user interfaces. It is maintained by Facebook and a community of developers, and is used to create reusable UI components. React.js is popular for its virtual DOM, which optimizes performance by only updating the necessary parts of the UI.\""
      ]
     },
     "execution_count": 20,
     "metadata": {},
     "output_type": "execute_result"
    }
   ],
   "source": [
    "result=chain.run(question = query, docs = docs_page_content)\n",
    "result"
   ]
  },
  {
   "cell_type": "markdown",
   "metadata": {},
   "source": [
    "Let's try to ask a question which is out of context"
   ]
  },
  {
   "cell_type": "code",
   "execution_count": 21,
   "metadata": {},
   "outputs": [
    {
     "data": {
      "text/plain": [
       "'▲\\n\\n\\n\\n\\n\\n\\n\\n\\n\\n\\n\\n\\n\\n\\n\\n\\n\\n\\n\\n\\n\\n\\n\\n\\n\\n\\n\\n\\n\\n\\n\\n\\n\\n\\n\\n\\n\\n\\n\\n\\n\\n\\n\\n\\n\\n\\n\\n\\n\\n\\n\\n\\r\\n                     A-143, 9th Floor, Sovereign Corporate Tower, Sector-136, Noida, Uttar Pradesh - 201305 CompanyAbout UsLegalCareersIn MediaContact UsAdvertise with usGFG Corporate SolutionPlacement Training ProgramExploreJob-A-Thon Hiring ChallengeHack-A-ThonGfG Weekly ContestOffline Classes (Delhi/NCR)DSA in JAVA/C++Master System DesignMaster AwarenessUPSC Study MaterialGeography NotesHistory NotesModern Indian History NotesMedieval Indian History NotesAncient Indian History NotesComplete History NotesScience & Tech. NotesEthics NotesPolity NotesEconomics NotesGovernment Schemes (Updated)UPSC'"
      ]
     },
     "execution_count": 21,
     "metadata": {},
     "output_type": "execute_result"
    }
   ],
   "source": [
    "query = \"Where does vishali live?\"\n",
    "docs_page_content = retrieve_content(query)\n",
    "docs_page_content"
   ]
  },
  {
   "cell_type": "code",
   "execution_count": 22,
   "metadata": {},
   "outputs": [
    {
     "data": {
      "text/plain": [
       "\"\\n        You are an AI Assistant that follows instructions extremely well.\\n        Please be truthful and give direct answers. Please tell 'I don't know' if user query is not in content\\n        \\n        Answer the following question: \\nWhere does vishali live?\\n\\n\\n        By searching the following transcript:\\n▲\\n\\n\\n\\n\\n\\n\\n\\n\\n\\n\\n\\n\\n\\n\\n\\n\\n\\n\\n\\n\\n\\n\\n\\n\\n\\n\\n\\n\\n\\n\\n\\n\\n\\n\\n\\n\\n\\n\\n\\n\\n\\n\\n\\n\\n\\n\\n\\n\\n\\n\\n\\n\\r\\n                     A-143, 9th Floor, Sovereign Corporate Tower, Sector-136, Noida, Uttar Pradesh - 201305 CompanyAbout UsLegalCareersIn MediaContact UsAdvertise with usGFG Corporate SolutionPlacement Training ProgramExploreJob-A-Thon Hiring ChallengeHack-A-ThonGfG Weekly ContestOffline Classes (Delhi/NCR)DSA in JAVA/C++Master System DesignMaster AwarenessUPSC Study MaterialGeography NotesHistory NotesModern Indian History NotesMedieval Indian History NotesAncient Indian History NotesComplete History NotesScience & Tech. NotesEthics NotesPolity NotesEconomics NotesGovernment Schemes (Updated)UPSC.\\n        \\nAnswer: Vishali's address is not mentioned in the given transcript.\""
      ]
     },
     "execution_count": 22,
     "metadata": {},
     "output_type": "execute_result"
    }
   ],
   "source": [
    "result=chain.run(question = query, docs = docs_page_content)\n",
    "result"
   ]
  }
 ],
 "metadata": {
  "kernelspec": {
   "display_name": "Python 3",
   "language": "python",
   "name": "python3"
  },
  "language_info": {
   "codemirror_mode": {
    "name": "ipython",
    "version": 3
   },
   "file_extension": ".py",
   "mimetype": "text/x-python",
   "name": "python",
   "nbconvert_exporter": "python",
   "pygments_lexer": "ipython3",
   "version": "3.9.11"
  }
 },
 "nbformat": 4,
 "nbformat_minor": 2
}
